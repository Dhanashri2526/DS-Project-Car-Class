{
  "nbformat": 4,
  "nbformat_minor": 0,
  "metadata": {
    "colab": {
      "provenance": [],
      "collapsed_sections": [],
      "authorship_tag": "ABX9TyOwYcSq6vLe7DBBogJxJBj9",
      "include_colab_link": true
    },
    "kernelspec": {
      "name": "python3",
      "display_name": "Python 3"
    },
    "language_info": {
      "name": "python"
    }
  },
  "cells": [
    {
      "cell_type": "markdown",
      "metadata": {
        "id": "view-in-github",
        "colab_type": "text"
      },
      "source": [
        "<a href=\"https://colab.research.google.com/github/Dhanashri2526/DS-Project-Car-Class/blob/main/Project_Car_Class.ipynb\" target=\"_parent\"><img src=\"https://colab.research.google.com/assets/colab-badge.svg\" alt=\"Open In Colab\"/></a>"
      ]
    },
    {
      "cell_type": "markdown",
      "source": [
        "#####Car Classification"
      ],
      "metadata": {
        "id": "geaGjcwxycJb"
      }
    },
    {
      "cell_type": "markdown",
      "source": [
        "Import module"
      ],
      "metadata": {
        "id": "B2Vlepv8_8NO"
      }
    },
    {
      "cell_type": "code",
      "execution_count": null,
      "metadata": {
        "id": "IR1zkV3_yWNJ"
      },
      "outputs": [],
      "source": [
        "import pandas as pd\n",
        "import numpy as np\n",
        "import warnings\n",
        "warnings.filterwarnings('ignore')"
      ]
    },
    {
      "cell_type": "markdown",
      "source": [
        "Load the dataset"
      ],
      "metadata": {
        "id": "C2Qh6PhR__cS"
      }
    },
    {
      "cell_type": "code",
      "source": [
        " data=pd.read_csv('cars_class.csv')"
      ],
      "metadata": {
        "id": "_Qi9hLciyrG8"
      },
      "execution_count": null,
      "outputs": []
    },
    {
      "cell_type": "code",
      "source": [
        "data"
      ],
      "metadata": {
        "colab": {
          "base_uri": "https://localhost:8080/",
          "height": 487
        },
        "id": "VQk1w5C60iFX",
        "outputId": "3cd76de6-3c67-4913-9dcb-aecb5f66bcf2"
      },
      "execution_count": null,
      "outputs": [
        {
          "output_type": "execute_result",
          "data": {
            "text/plain": [
              "      ID  Comp  Circ  D.Circ  Rad.Ra  Pr.Axis.Ra  Max.L.Ra  Scat.Ra  Elong  \\\n",
              "0      1    88    39      70     166          66         7      148     44   \n",
              "1      2    85    35      64     129          57         6      116     57   \n",
              "2      3    91    41      84     141          57         9      149     45   \n",
              "3      4   102    54      98     177          56        10      219     31   \n",
              "4      5    87    39      74     152          58         6      151     44   \n",
              "..   ...   ...   ...     ...     ...         ...       ...      ...    ...   \n",
              "714  715   111    58     105     183          51         6      265     26   \n",
              "715  716    93    43      76     149          57         7      149     44   \n",
              "716  717    90    42      63     144          59         7      131     50   \n",
              "717  718   101    56     101     231          72        10      217     31   \n",
              "718  719    99    38      74     184          66         6      164     39   \n",
              "\n",
              "     Pr.Axis.Rect  Max.L.Rect  Sc.Var.Maxis  Sc.Var.maxis  Ra.Gyr  Skew.Maxis  \\\n",
              "0              19         134           167           332     143          69   \n",
              "1              17         125           138           200     123          65   \n",
              "2              19         143           170           330     158          72   \n",
              "3              25         171           219           706     223          72   \n",
              "4              19         136           174           337     140          70   \n",
              "..            ...         ...           ...           ...     ...         ...   \n",
              "714            29         174           285          1018     255          85   \n",
              "715            19         143           172           335     176          69   \n",
              "716            18         142           154           259     162          65   \n",
              "717            24         171           232           698     216          72   \n",
              "718            20         131           193           414     137          71   \n",
              "\n",
              "     Skew.maxis  Kurt.maxis  Kurt.Maxis  Holl.Ra  Class  \n",
              "0             5          13         193      201      0  \n",
              "1             1          23         196      203      3  \n",
              "2             9          14         189      199      3  \n",
              "3             5          17         186      196      1  \n",
              "4             1          33         187      196      2  \n",
              "..          ...         ...         ...      ...    ...  \n",
              "714           4           8         181      183      0  \n",
              "715          14           0         189      194      2  \n",
              "716          15           3         197      204      3  \n",
              "717           2           6         187      197      2  \n",
              "718           2          22         200      202      0  \n",
              "\n",
              "[719 rows x 20 columns]"
            ],
            "text/html": [
              "\n",
              "  <div id=\"df-dfd401fc-0f85-41ef-867e-4486f5013de1\">\n",
              "    <div class=\"colab-df-container\">\n",
              "      <div>\n",
              "<style scoped>\n",
              "    .dataframe tbody tr th:only-of-type {\n",
              "        vertical-align: middle;\n",
              "    }\n",
              "\n",
              "    .dataframe tbody tr th {\n",
              "        vertical-align: top;\n",
              "    }\n",
              "\n",
              "    .dataframe thead th {\n",
              "        text-align: right;\n",
              "    }\n",
              "</style>\n",
              "<table border=\"1\" class=\"dataframe\">\n",
              "  <thead>\n",
              "    <tr style=\"text-align: right;\">\n",
              "      <th></th>\n",
              "      <th>ID</th>\n",
              "      <th>Comp</th>\n",
              "      <th>Circ</th>\n",
              "      <th>D.Circ</th>\n",
              "      <th>Rad.Ra</th>\n",
              "      <th>Pr.Axis.Ra</th>\n",
              "      <th>Max.L.Ra</th>\n",
              "      <th>Scat.Ra</th>\n",
              "      <th>Elong</th>\n",
              "      <th>Pr.Axis.Rect</th>\n",
              "      <th>Max.L.Rect</th>\n",
              "      <th>Sc.Var.Maxis</th>\n",
              "      <th>Sc.Var.maxis</th>\n",
              "      <th>Ra.Gyr</th>\n",
              "      <th>Skew.Maxis</th>\n",
              "      <th>Skew.maxis</th>\n",
              "      <th>Kurt.maxis</th>\n",
              "      <th>Kurt.Maxis</th>\n",
              "      <th>Holl.Ra</th>\n",
              "      <th>Class</th>\n",
              "    </tr>\n",
              "  </thead>\n",
              "  <tbody>\n",
              "    <tr>\n",
              "      <th>0</th>\n",
              "      <td>1</td>\n",
              "      <td>88</td>\n",
              "      <td>39</td>\n",
              "      <td>70</td>\n",
              "      <td>166</td>\n",
              "      <td>66</td>\n",
              "      <td>7</td>\n",
              "      <td>148</td>\n",
              "      <td>44</td>\n",
              "      <td>19</td>\n",
              "      <td>134</td>\n",
              "      <td>167</td>\n",
              "      <td>332</td>\n",
              "      <td>143</td>\n",
              "      <td>69</td>\n",
              "      <td>5</td>\n",
              "      <td>13</td>\n",
              "      <td>193</td>\n",
              "      <td>201</td>\n",
              "      <td>0</td>\n",
              "    </tr>\n",
              "    <tr>\n",
              "      <th>1</th>\n",
              "      <td>2</td>\n",
              "      <td>85</td>\n",
              "      <td>35</td>\n",
              "      <td>64</td>\n",
              "      <td>129</td>\n",
              "      <td>57</td>\n",
              "      <td>6</td>\n",
              "      <td>116</td>\n",
              "      <td>57</td>\n",
              "      <td>17</td>\n",
              "      <td>125</td>\n",
              "      <td>138</td>\n",
              "      <td>200</td>\n",
              "      <td>123</td>\n",
              "      <td>65</td>\n",
              "      <td>1</td>\n",
              "      <td>23</td>\n",
              "      <td>196</td>\n",
              "      <td>203</td>\n",
              "      <td>3</td>\n",
              "    </tr>\n",
              "    <tr>\n",
              "      <th>2</th>\n",
              "      <td>3</td>\n",
              "      <td>91</td>\n",
              "      <td>41</td>\n",
              "      <td>84</td>\n",
              "      <td>141</td>\n",
              "      <td>57</td>\n",
              "      <td>9</td>\n",
              "      <td>149</td>\n",
              "      <td>45</td>\n",
              "      <td>19</td>\n",
              "      <td>143</td>\n",
              "      <td>170</td>\n",
              "      <td>330</td>\n",
              "      <td>158</td>\n",
              "      <td>72</td>\n",
              "      <td>9</td>\n",
              "      <td>14</td>\n",
              "      <td>189</td>\n",
              "      <td>199</td>\n",
              "      <td>3</td>\n",
              "    </tr>\n",
              "    <tr>\n",
              "      <th>3</th>\n",
              "      <td>4</td>\n",
              "      <td>102</td>\n",
              "      <td>54</td>\n",
              "      <td>98</td>\n",
              "      <td>177</td>\n",
              "      <td>56</td>\n",
              "      <td>10</td>\n",
              "      <td>219</td>\n",
              "      <td>31</td>\n",
              "      <td>25</td>\n",
              "      <td>171</td>\n",
              "      <td>219</td>\n",
              "      <td>706</td>\n",
              "      <td>223</td>\n",
              "      <td>72</td>\n",
              "      <td>5</td>\n",
              "      <td>17</td>\n",
              "      <td>186</td>\n",
              "      <td>196</td>\n",
              "      <td>1</td>\n",
              "    </tr>\n",
              "    <tr>\n",
              "      <th>4</th>\n",
              "      <td>5</td>\n",
              "      <td>87</td>\n",
              "      <td>39</td>\n",
              "      <td>74</td>\n",
              "      <td>152</td>\n",
              "      <td>58</td>\n",
              "      <td>6</td>\n",
              "      <td>151</td>\n",
              "      <td>44</td>\n",
              "      <td>19</td>\n",
              "      <td>136</td>\n",
              "      <td>174</td>\n",
              "      <td>337</td>\n",
              "      <td>140</td>\n",
              "      <td>70</td>\n",
              "      <td>1</td>\n",
              "      <td>33</td>\n",
              "      <td>187</td>\n",
              "      <td>196</td>\n",
              "      <td>2</td>\n",
              "    </tr>\n",
              "    <tr>\n",
              "      <th>...</th>\n",
              "      <td>...</td>\n",
              "      <td>...</td>\n",
              "      <td>...</td>\n",
              "      <td>...</td>\n",
              "      <td>...</td>\n",
              "      <td>...</td>\n",
              "      <td>...</td>\n",
              "      <td>...</td>\n",
              "      <td>...</td>\n",
              "      <td>...</td>\n",
              "      <td>...</td>\n",
              "      <td>...</td>\n",
              "      <td>...</td>\n",
              "      <td>...</td>\n",
              "      <td>...</td>\n",
              "      <td>...</td>\n",
              "      <td>...</td>\n",
              "      <td>...</td>\n",
              "      <td>...</td>\n",
              "      <td>...</td>\n",
              "    </tr>\n",
              "    <tr>\n",
              "      <th>714</th>\n",
              "      <td>715</td>\n",
              "      <td>111</td>\n",
              "      <td>58</td>\n",
              "      <td>105</td>\n",
              "      <td>183</td>\n",
              "      <td>51</td>\n",
              "      <td>6</td>\n",
              "      <td>265</td>\n",
              "      <td>26</td>\n",
              "      <td>29</td>\n",
              "      <td>174</td>\n",
              "      <td>285</td>\n",
              "      <td>1018</td>\n",
              "      <td>255</td>\n",
              "      <td>85</td>\n",
              "      <td>4</td>\n",
              "      <td>8</td>\n",
              "      <td>181</td>\n",
              "      <td>183</td>\n",
              "      <td>0</td>\n",
              "    </tr>\n",
              "    <tr>\n",
              "      <th>715</th>\n",
              "      <td>716</td>\n",
              "      <td>93</td>\n",
              "      <td>43</td>\n",
              "      <td>76</td>\n",
              "      <td>149</td>\n",
              "      <td>57</td>\n",
              "      <td>7</td>\n",
              "      <td>149</td>\n",
              "      <td>44</td>\n",
              "      <td>19</td>\n",
              "      <td>143</td>\n",
              "      <td>172</td>\n",
              "      <td>335</td>\n",
              "      <td>176</td>\n",
              "      <td>69</td>\n",
              "      <td>14</td>\n",
              "      <td>0</td>\n",
              "      <td>189</td>\n",
              "      <td>194</td>\n",
              "      <td>2</td>\n",
              "    </tr>\n",
              "    <tr>\n",
              "      <th>716</th>\n",
              "      <td>717</td>\n",
              "      <td>90</td>\n",
              "      <td>42</td>\n",
              "      <td>63</td>\n",
              "      <td>144</td>\n",
              "      <td>59</td>\n",
              "      <td>7</td>\n",
              "      <td>131</td>\n",
              "      <td>50</td>\n",
              "      <td>18</td>\n",
              "      <td>142</td>\n",
              "      <td>154</td>\n",
              "      <td>259</td>\n",
              "      <td>162</td>\n",
              "      <td>65</td>\n",
              "      <td>15</td>\n",
              "      <td>3</td>\n",
              "      <td>197</td>\n",
              "      <td>204</td>\n",
              "      <td>3</td>\n",
              "    </tr>\n",
              "    <tr>\n",
              "      <th>717</th>\n",
              "      <td>718</td>\n",
              "      <td>101</td>\n",
              "      <td>56</td>\n",
              "      <td>101</td>\n",
              "      <td>231</td>\n",
              "      <td>72</td>\n",
              "      <td>10</td>\n",
              "      <td>217</td>\n",
              "      <td>31</td>\n",
              "      <td>24</td>\n",
              "      <td>171</td>\n",
              "      <td>232</td>\n",
              "      <td>698</td>\n",
              "      <td>216</td>\n",
              "      <td>72</td>\n",
              "      <td>2</td>\n",
              "      <td>6</td>\n",
              "      <td>187</td>\n",
              "      <td>197</td>\n",
              "      <td>2</td>\n",
              "    </tr>\n",
              "    <tr>\n",
              "      <th>718</th>\n",
              "      <td>719</td>\n",
              "      <td>99</td>\n",
              "      <td>38</td>\n",
              "      <td>74</td>\n",
              "      <td>184</td>\n",
              "      <td>66</td>\n",
              "      <td>6</td>\n",
              "      <td>164</td>\n",
              "      <td>39</td>\n",
              "      <td>20</td>\n",
              "      <td>131</td>\n",
              "      <td>193</td>\n",
              "      <td>414</td>\n",
              "      <td>137</td>\n",
              "      <td>71</td>\n",
              "      <td>2</td>\n",
              "      <td>22</td>\n",
              "      <td>200</td>\n",
              "      <td>202</td>\n",
              "      <td>0</td>\n",
              "    </tr>\n",
              "  </tbody>\n",
              "</table>\n",
              "<p>719 rows × 20 columns</p>\n",
              "</div>\n",
              "      <button class=\"colab-df-convert\" onclick=\"convertToInteractive('df-dfd401fc-0f85-41ef-867e-4486f5013de1')\"\n",
              "              title=\"Convert this dataframe to an interactive table.\"\n",
              "              style=\"display:none;\">\n",
              "        \n",
              "  <svg xmlns=\"http://www.w3.org/2000/svg\" height=\"24px\"viewBox=\"0 0 24 24\"\n",
              "       width=\"24px\">\n",
              "    <path d=\"M0 0h24v24H0V0z\" fill=\"none\"/>\n",
              "    <path d=\"M18.56 5.44l.94 2.06.94-2.06 2.06-.94-2.06-.94-.94-2.06-.94 2.06-2.06.94zm-11 1L8.5 8.5l.94-2.06 2.06-.94-2.06-.94L8.5 2.5l-.94 2.06-2.06.94zm10 10l.94 2.06.94-2.06 2.06-.94-2.06-.94-.94-2.06-.94 2.06-2.06.94z\"/><path d=\"M17.41 7.96l-1.37-1.37c-.4-.4-.92-.59-1.43-.59-.52 0-1.04.2-1.43.59L10.3 9.45l-7.72 7.72c-.78.78-.78 2.05 0 2.83L4 21.41c.39.39.9.59 1.41.59.51 0 1.02-.2 1.41-.59l7.78-7.78 2.81-2.81c.8-.78.8-2.07 0-2.86zM5.41 20L4 18.59l7.72-7.72 1.47 1.35L5.41 20z\"/>\n",
              "  </svg>\n",
              "      </button>\n",
              "      \n",
              "  <style>\n",
              "    .colab-df-container {\n",
              "      display:flex;\n",
              "      flex-wrap:wrap;\n",
              "      gap: 12px;\n",
              "    }\n",
              "\n",
              "    .colab-df-convert {\n",
              "      background-color: #E8F0FE;\n",
              "      border: none;\n",
              "      border-radius: 50%;\n",
              "      cursor: pointer;\n",
              "      display: none;\n",
              "      fill: #1967D2;\n",
              "      height: 32px;\n",
              "      padding: 0 0 0 0;\n",
              "      width: 32px;\n",
              "    }\n",
              "\n",
              "    .colab-df-convert:hover {\n",
              "      background-color: #E2EBFA;\n",
              "      box-shadow: 0px 1px 2px rgba(60, 64, 67, 0.3), 0px 1px 3px 1px rgba(60, 64, 67, 0.15);\n",
              "      fill: #174EA6;\n",
              "    }\n",
              "\n",
              "    [theme=dark] .colab-df-convert {\n",
              "      background-color: #3B4455;\n",
              "      fill: #D2E3FC;\n",
              "    }\n",
              "\n",
              "    [theme=dark] .colab-df-convert:hover {\n",
              "      background-color: #434B5C;\n",
              "      box-shadow: 0px 1px 3px 1px rgba(0, 0, 0, 0.15);\n",
              "      filter: drop-shadow(0px 1px 2px rgba(0, 0, 0, 0.3));\n",
              "      fill: #FFFFFF;\n",
              "    }\n",
              "  </style>\n",
              "\n",
              "      <script>\n",
              "        const buttonEl =\n",
              "          document.querySelector('#df-dfd401fc-0f85-41ef-867e-4486f5013de1 button.colab-df-convert');\n",
              "        buttonEl.style.display =\n",
              "          google.colab.kernel.accessAllowed ? 'block' : 'none';\n",
              "\n",
              "        async function convertToInteractive(key) {\n",
              "          const element = document.querySelector('#df-dfd401fc-0f85-41ef-867e-4486f5013de1');\n",
              "          const dataTable =\n",
              "            await google.colab.kernel.invokeFunction('convertToInteractive',\n",
              "                                                     [key], {});\n",
              "          if (!dataTable) return;\n",
              "\n",
              "          const docLinkHtml = 'Like what you see? Visit the ' +\n",
              "            '<a target=\"_blank\" href=https://colab.research.google.com/notebooks/data_table.ipynb>data table notebook</a>'\n",
              "            + ' to learn more about interactive tables.';\n",
              "          element.innerHTML = '';\n",
              "          dataTable['output_type'] = 'display_data';\n",
              "          await google.colab.output.renderOutput(dataTable, element);\n",
              "          const docLink = document.createElement('div');\n",
              "          docLink.innerHTML = docLinkHtml;\n",
              "          element.appendChild(docLink);\n",
              "        }\n",
              "      </script>\n",
              "    </div>\n",
              "  </div>\n",
              "  "
            ]
          },
          "metadata": {},
          "execution_count": 3
        }
      ]
    },
    {
      "cell_type": "markdown",
      "source": [
        "####Check shape of data"
      ],
      "metadata": {
        "id": "j09YkU3VAEtn"
      }
    },
    {
      "cell_type": "code",
      "source": [
        "data.shape"
      ],
      "metadata": {
        "colab": {
          "base_uri": "https://localhost:8080/"
        },
        "id": "gn3C8iob0jWE",
        "outputId": "7bbc25b4-9c4f-4456-df99-87d24da305c2"
      },
      "execution_count": null,
      "outputs": [
        {
          "output_type": "execute_result",
          "data": {
            "text/plain": [
              "(719, 20)"
            ]
          },
          "metadata": {},
          "execution_count": 4
        }
      ]
    },
    {
      "cell_type": "code",
      "source": [
        "data.head()"
      ],
      "metadata": {
        "colab": {
          "base_uri": "https://localhost:8080/",
          "height": 270
        },
        "id": "asLMFdmO0qD0",
        "outputId": "4a48f26a-acb9-4a8a-f837-7f9633f11184"
      },
      "execution_count": null,
      "outputs": [
        {
          "output_type": "execute_result",
          "data": {
            "text/plain": [
              "   ID  Comp  Circ  D.Circ  Rad.Ra  Pr.Axis.Ra  Max.L.Ra  Scat.Ra  Elong  \\\n",
              "0   1    88    39      70     166          66         7      148     44   \n",
              "1   2    85    35      64     129          57         6      116     57   \n",
              "2   3    91    41      84     141          57         9      149     45   \n",
              "3   4   102    54      98     177          56        10      219     31   \n",
              "4   5    87    39      74     152          58         6      151     44   \n",
              "\n",
              "   Pr.Axis.Rect  Max.L.Rect  Sc.Var.Maxis  Sc.Var.maxis  Ra.Gyr  Skew.Maxis  \\\n",
              "0            19         134           167           332     143          69   \n",
              "1            17         125           138           200     123          65   \n",
              "2            19         143           170           330     158          72   \n",
              "3            25         171           219           706     223          72   \n",
              "4            19         136           174           337     140          70   \n",
              "\n",
              "   Skew.maxis  Kurt.maxis  Kurt.Maxis  Holl.Ra  Class  \n",
              "0           5          13         193      201      0  \n",
              "1           1          23         196      203      3  \n",
              "2           9          14         189      199      3  \n",
              "3           5          17         186      196      1  \n",
              "4           1          33         187      196      2  "
            ],
            "text/html": [
              "\n",
              "  <div id=\"df-f61c9b99-85b6-4c92-9c72-2b47501f8082\">\n",
              "    <div class=\"colab-df-container\">\n",
              "      <div>\n",
              "<style scoped>\n",
              "    .dataframe tbody tr th:only-of-type {\n",
              "        vertical-align: middle;\n",
              "    }\n",
              "\n",
              "    .dataframe tbody tr th {\n",
              "        vertical-align: top;\n",
              "    }\n",
              "\n",
              "    .dataframe thead th {\n",
              "        text-align: right;\n",
              "    }\n",
              "</style>\n",
              "<table border=\"1\" class=\"dataframe\">\n",
              "  <thead>\n",
              "    <tr style=\"text-align: right;\">\n",
              "      <th></th>\n",
              "      <th>ID</th>\n",
              "      <th>Comp</th>\n",
              "      <th>Circ</th>\n",
              "      <th>D.Circ</th>\n",
              "      <th>Rad.Ra</th>\n",
              "      <th>Pr.Axis.Ra</th>\n",
              "      <th>Max.L.Ra</th>\n",
              "      <th>Scat.Ra</th>\n",
              "      <th>Elong</th>\n",
              "      <th>Pr.Axis.Rect</th>\n",
              "      <th>Max.L.Rect</th>\n",
              "      <th>Sc.Var.Maxis</th>\n",
              "      <th>Sc.Var.maxis</th>\n",
              "      <th>Ra.Gyr</th>\n",
              "      <th>Skew.Maxis</th>\n",
              "      <th>Skew.maxis</th>\n",
              "      <th>Kurt.maxis</th>\n",
              "      <th>Kurt.Maxis</th>\n",
              "      <th>Holl.Ra</th>\n",
              "      <th>Class</th>\n",
              "    </tr>\n",
              "  </thead>\n",
              "  <tbody>\n",
              "    <tr>\n",
              "      <th>0</th>\n",
              "      <td>1</td>\n",
              "      <td>88</td>\n",
              "      <td>39</td>\n",
              "      <td>70</td>\n",
              "      <td>166</td>\n",
              "      <td>66</td>\n",
              "      <td>7</td>\n",
              "      <td>148</td>\n",
              "      <td>44</td>\n",
              "      <td>19</td>\n",
              "      <td>134</td>\n",
              "      <td>167</td>\n",
              "      <td>332</td>\n",
              "      <td>143</td>\n",
              "      <td>69</td>\n",
              "      <td>5</td>\n",
              "      <td>13</td>\n",
              "      <td>193</td>\n",
              "      <td>201</td>\n",
              "      <td>0</td>\n",
              "    </tr>\n",
              "    <tr>\n",
              "      <th>1</th>\n",
              "      <td>2</td>\n",
              "      <td>85</td>\n",
              "      <td>35</td>\n",
              "      <td>64</td>\n",
              "      <td>129</td>\n",
              "      <td>57</td>\n",
              "      <td>6</td>\n",
              "      <td>116</td>\n",
              "      <td>57</td>\n",
              "      <td>17</td>\n",
              "      <td>125</td>\n",
              "      <td>138</td>\n",
              "      <td>200</td>\n",
              "      <td>123</td>\n",
              "      <td>65</td>\n",
              "      <td>1</td>\n",
              "      <td>23</td>\n",
              "      <td>196</td>\n",
              "      <td>203</td>\n",
              "      <td>3</td>\n",
              "    </tr>\n",
              "    <tr>\n",
              "      <th>2</th>\n",
              "      <td>3</td>\n",
              "      <td>91</td>\n",
              "      <td>41</td>\n",
              "      <td>84</td>\n",
              "      <td>141</td>\n",
              "      <td>57</td>\n",
              "      <td>9</td>\n",
              "      <td>149</td>\n",
              "      <td>45</td>\n",
              "      <td>19</td>\n",
              "      <td>143</td>\n",
              "      <td>170</td>\n",
              "      <td>330</td>\n",
              "      <td>158</td>\n",
              "      <td>72</td>\n",
              "      <td>9</td>\n",
              "      <td>14</td>\n",
              "      <td>189</td>\n",
              "      <td>199</td>\n",
              "      <td>3</td>\n",
              "    </tr>\n",
              "    <tr>\n",
              "      <th>3</th>\n",
              "      <td>4</td>\n",
              "      <td>102</td>\n",
              "      <td>54</td>\n",
              "      <td>98</td>\n",
              "      <td>177</td>\n",
              "      <td>56</td>\n",
              "      <td>10</td>\n",
              "      <td>219</td>\n",
              "      <td>31</td>\n",
              "      <td>25</td>\n",
              "      <td>171</td>\n",
              "      <td>219</td>\n",
              "      <td>706</td>\n",
              "      <td>223</td>\n",
              "      <td>72</td>\n",
              "      <td>5</td>\n",
              "      <td>17</td>\n",
              "      <td>186</td>\n",
              "      <td>196</td>\n",
              "      <td>1</td>\n",
              "    </tr>\n",
              "    <tr>\n",
              "      <th>4</th>\n",
              "      <td>5</td>\n",
              "      <td>87</td>\n",
              "      <td>39</td>\n",
              "      <td>74</td>\n",
              "      <td>152</td>\n",
              "      <td>58</td>\n",
              "      <td>6</td>\n",
              "      <td>151</td>\n",
              "      <td>44</td>\n",
              "      <td>19</td>\n",
              "      <td>136</td>\n",
              "      <td>174</td>\n",
              "      <td>337</td>\n",
              "      <td>140</td>\n",
              "      <td>70</td>\n",
              "      <td>1</td>\n",
              "      <td>33</td>\n",
              "      <td>187</td>\n",
              "      <td>196</td>\n",
              "      <td>2</td>\n",
              "    </tr>\n",
              "  </tbody>\n",
              "</table>\n",
              "</div>\n",
              "      <button class=\"colab-df-convert\" onclick=\"convertToInteractive('df-f61c9b99-85b6-4c92-9c72-2b47501f8082')\"\n",
              "              title=\"Convert this dataframe to an interactive table.\"\n",
              "              style=\"display:none;\">\n",
              "        \n",
              "  <svg xmlns=\"http://www.w3.org/2000/svg\" height=\"24px\"viewBox=\"0 0 24 24\"\n",
              "       width=\"24px\">\n",
              "    <path d=\"M0 0h24v24H0V0z\" fill=\"none\"/>\n",
              "    <path d=\"M18.56 5.44l.94 2.06.94-2.06 2.06-.94-2.06-.94-.94-2.06-.94 2.06-2.06.94zm-11 1L8.5 8.5l.94-2.06 2.06-.94-2.06-.94L8.5 2.5l-.94 2.06-2.06.94zm10 10l.94 2.06.94-2.06 2.06-.94-2.06-.94-.94-2.06-.94 2.06-2.06.94z\"/><path d=\"M17.41 7.96l-1.37-1.37c-.4-.4-.92-.59-1.43-.59-.52 0-1.04.2-1.43.59L10.3 9.45l-7.72 7.72c-.78.78-.78 2.05 0 2.83L4 21.41c.39.39.9.59 1.41.59.51 0 1.02-.2 1.41-.59l7.78-7.78 2.81-2.81c.8-.78.8-2.07 0-2.86zM5.41 20L4 18.59l7.72-7.72 1.47 1.35L5.41 20z\"/>\n",
              "  </svg>\n",
              "      </button>\n",
              "      \n",
              "  <style>\n",
              "    .colab-df-container {\n",
              "      display:flex;\n",
              "      flex-wrap:wrap;\n",
              "      gap: 12px;\n",
              "    }\n",
              "\n",
              "    .colab-df-convert {\n",
              "      background-color: #E8F0FE;\n",
              "      border: none;\n",
              "      border-radius: 50%;\n",
              "      cursor: pointer;\n",
              "      display: none;\n",
              "      fill: #1967D2;\n",
              "      height: 32px;\n",
              "      padding: 0 0 0 0;\n",
              "      width: 32px;\n",
              "    }\n",
              "\n",
              "    .colab-df-convert:hover {\n",
              "      background-color: #E2EBFA;\n",
              "      box-shadow: 0px 1px 2px rgba(60, 64, 67, 0.3), 0px 1px 3px 1px rgba(60, 64, 67, 0.15);\n",
              "      fill: #174EA6;\n",
              "    }\n",
              "\n",
              "    [theme=dark] .colab-df-convert {\n",
              "      background-color: #3B4455;\n",
              "      fill: #D2E3FC;\n",
              "    }\n",
              "\n",
              "    [theme=dark] .colab-df-convert:hover {\n",
              "      background-color: #434B5C;\n",
              "      box-shadow: 0px 1px 3px 1px rgba(0, 0, 0, 0.15);\n",
              "      filter: drop-shadow(0px 1px 2px rgba(0, 0, 0, 0.3));\n",
              "      fill: #FFFFFF;\n",
              "    }\n",
              "  </style>\n",
              "\n",
              "      <script>\n",
              "        const buttonEl =\n",
              "          document.querySelector('#df-f61c9b99-85b6-4c92-9c72-2b47501f8082 button.colab-df-convert');\n",
              "        buttonEl.style.display =\n",
              "          google.colab.kernel.accessAllowed ? 'block' : 'none';\n",
              "\n",
              "        async function convertToInteractive(key) {\n",
              "          const element = document.querySelector('#df-f61c9b99-85b6-4c92-9c72-2b47501f8082');\n",
              "          const dataTable =\n",
              "            await google.colab.kernel.invokeFunction('convertToInteractive',\n",
              "                                                     [key], {});\n",
              "          if (!dataTable) return;\n",
              "\n",
              "          const docLinkHtml = 'Like what you see? Visit the ' +\n",
              "            '<a target=\"_blank\" href=https://colab.research.google.com/notebooks/data_table.ipynb>data table notebook</a>'\n",
              "            + ' to learn more about interactive tables.';\n",
              "          element.innerHTML = '';\n",
              "          dataTable['output_type'] = 'display_data';\n",
              "          await google.colab.output.renderOutput(dataTable, element);\n",
              "          const docLink = document.createElement('div');\n",
              "          docLink.innerHTML = docLinkHtml;\n",
              "          element.appendChild(docLink);\n",
              "        }\n",
              "      </script>\n",
              "    </div>\n",
              "  </div>\n",
              "  "
            ]
          },
          "metadata": {},
          "execution_count": 5
        }
      ]
    },
    {
      "cell_type": "code",
      "source": [
        "data['Class'].unique()"
      ],
      "metadata": {
        "colab": {
          "base_uri": "https://localhost:8080/"
        },
        "id": "AkdBm4MM1ueP",
        "outputId": "ef09f728-1d9d-4e07-ad53-ec1d2afe1263"
      },
      "execution_count": null,
      "outputs": [
        {
          "output_type": "execute_result",
          "data": {
            "text/plain": [
              "array([0, 3, 1, 2])"
            ]
          },
          "metadata": {},
          "execution_count": 6
        }
      ]
    },
    {
      "cell_type": "markdown",
      "source": [
        "####Missing values"
      ],
      "metadata": {
        "id": "9-6pnFjJAUOy"
      }
    },
    {
      "cell_type": "code",
      "source": [
        "data.isnull().sum()"
      ],
      "metadata": {
        "colab": {
          "base_uri": "https://localhost:8080/"
        },
        "id": "R0AYdxrT4lAa",
        "outputId": "bfad41e2-f7ed-4554-ffe5-6785bcdd4941"
      },
      "execution_count": null,
      "outputs": [
        {
          "output_type": "execute_result",
          "data": {
            "text/plain": [
              "ID              0\n",
              "Comp            0\n",
              "Circ            0\n",
              "D.Circ          0\n",
              "Rad.Ra          0\n",
              "Pr.Axis.Ra      0\n",
              "Max.L.Ra        0\n",
              "Scat.Ra         0\n",
              "Elong           0\n",
              "Pr.Axis.Rect    0\n",
              "Max.L.Rect      0\n",
              "Sc.Var.Maxis    0\n",
              "Sc.Var.maxis    0\n",
              "Ra.Gyr          0\n",
              "Skew.Maxis      0\n",
              "Skew.maxis      0\n",
              "Kurt.maxis      0\n",
              "Kurt.Maxis      0\n",
              "Holl.Ra         0\n",
              "Class           0\n",
              "dtype: int64"
            ]
          },
          "metadata": {},
          "execution_count": 7
        }
      ]
    },
    {
      "cell_type": "markdown",
      "source": [
        "In this dataset there are no missing values."
      ],
      "metadata": {
        "id": "KSTMRgGmAa1g"
      }
    },
    {
      "cell_type": "markdown",
      "source": [
        "####Check data is balanced or not"
      ],
      "metadata": {
        "id": "wKlP_FVsAkdW"
      }
    },
    {
      "cell_type": "code",
      "source": [
        "data['Class'].value_counts()"
      ],
      "metadata": {
        "colab": {
          "base_uri": "https://localhost:8080/"
        },
        "id": "S6qQgpcz4uE2",
        "outputId": "4b17aebc-9489-4a30-c49f-bbc0f9ad21c4"
      },
      "execution_count": null,
      "outputs": [
        {
          "output_type": "execute_result",
          "data": {
            "text/plain": [
              "0    189\n",
              "1    180\n",
              "3    177\n",
              "2    173\n",
              "Name: Class, dtype: int64"
            ]
          },
          "metadata": {},
          "execution_count": 8
        }
      ]
    },
    {
      "cell_type": "markdown",
      "source": [
        "This dataset is balanced"
      ],
      "metadata": {
        "id": "G8B0H7ROAq9w"
      }
    },
    {
      "cell_type": "markdown",
      "source": [
        "####Information about dataframe"
      ],
      "metadata": {
        "id": "YVr2zRfsCKVz"
      }
    },
    {
      "cell_type": "code",
      "source": [
        "data.info()"
      ],
      "metadata": {
        "colab": {
          "base_uri": "https://localhost:8080/"
        },
        "id": "BowquHtV48DL",
        "outputId": "836b3a34-e56f-4ccd-ade6-750e1d1b6b06"
      },
      "execution_count": null,
      "outputs": [
        {
          "output_type": "stream",
          "name": "stdout",
          "text": [
            "<class 'pandas.core.frame.DataFrame'>\n",
            "RangeIndex: 719 entries, 0 to 718\n",
            "Data columns (total 20 columns):\n",
            " #   Column        Non-Null Count  Dtype\n",
            "---  ------        --------------  -----\n",
            " 0   ID            719 non-null    int64\n",
            " 1   Comp          719 non-null    int64\n",
            " 2   Circ          719 non-null    int64\n",
            " 3   D.Circ        719 non-null    int64\n",
            " 4   Rad.Ra        719 non-null    int64\n",
            " 5   Pr.Axis.Ra    719 non-null    int64\n",
            " 6   Max.L.Ra      719 non-null    int64\n",
            " 7   Scat.Ra       719 non-null    int64\n",
            " 8   Elong         719 non-null    int64\n",
            " 9   Pr.Axis.Rect  719 non-null    int64\n",
            " 10  Max.L.Rect    719 non-null    int64\n",
            " 11  Sc.Var.Maxis  719 non-null    int64\n",
            " 12  Sc.Var.maxis  719 non-null    int64\n",
            " 13  Ra.Gyr        719 non-null    int64\n",
            " 14  Skew.Maxis    719 non-null    int64\n",
            " 15  Skew.maxis    719 non-null    int64\n",
            " 16  Kurt.maxis    719 non-null    int64\n",
            " 17  Kurt.Maxis    719 non-null    int64\n",
            " 18  Holl.Ra       719 non-null    int64\n",
            " 19  Class         719 non-null    int64\n",
            "dtypes: int64(20)\n",
            "memory usage: 112.5 KB\n"
          ]
        }
      ]
    },
    {
      "cell_type": "markdown",
      "source": [
        "Different color for different scaling range"
      ],
      "metadata": {
        "id": "_EnptOL1d3dg"
      }
    },
    {
      "cell_type": "code",
      "source": [
        "data.describe().style.background_gradient()"
      ],
      "metadata": {
        "colab": {
          "base_uri": "https://localhost:8080/",
          "height": 320
        },
        "id": "ifofnGkKCPHY",
        "outputId": "c621d420-b6d2-46ca-a806-143fb363bcbc"
      },
      "execution_count": null,
      "outputs": [
        {
          "output_type": "execute_result",
          "data": {
            "text/plain": [
              "<pandas.io.formats.style.Styler at 0x7f5b70783050>"
            ],
            "text/html": [
              "<style type=\"text/css\">\n",
              "#T_5a5bc_row0_col0, #T_5a5bc_row0_col1, #T_5a5bc_row0_col2, #T_5a5bc_row0_col3, #T_5a5bc_row0_col4, #T_5a5bc_row0_col5, #T_5a5bc_row0_col6, #T_5a5bc_row0_col7, #T_5a5bc_row0_col8, #T_5a5bc_row0_col9, #T_5a5bc_row0_col10, #T_5a5bc_row0_col11, #T_5a5bc_row0_col13, #T_5a5bc_row0_col14, #T_5a5bc_row0_col15, #T_5a5bc_row0_col16, #T_5a5bc_row0_col17, #T_5a5bc_row0_col18, #T_5a5bc_row0_col19, #T_5a5bc_row7_col0, #T_5a5bc_row7_col12 {\n",
              "  background-color: #023858;\n",
              "  color: #f1f1f1;\n",
              "}\n",
              "#T_5a5bc_row0_col12 {\n",
              "  background-color: #2d8abd;\n",
              "  color: #f1f1f1;\n",
              "}\n",
              "#T_5a5bc_row1_col0, #T_5a5bc_row5_col0 {\n",
              "  background-color: #73a9cf;\n",
              "  color: #f1f1f1;\n",
              "}\n",
              "#T_5a5bc_row1_col1, #T_5a5bc_row5_col1 {\n",
              "  background-color: #ede8f3;\n",
              "  color: #000000;\n",
              "}\n",
              "#T_5a5bc_row1_col2, #T_5a5bc_row3_col5, #T_5a5bc_row5_col2, #T_5a5bc_row6_col8, #T_5a5bc_row7_col16 {\n",
              "  background-color: #f7f0f7;\n",
              "  color: #000000;\n",
              "}\n",
              "#T_5a5bc_row1_col3, #T_5a5bc_row6_col14 {\n",
              "  background-color: #f1ebf4;\n",
              "  color: #000000;\n",
              "}\n",
              "#T_5a5bc_row1_col4, #T_5a5bc_row1_col7, #T_5a5bc_row4_col11 {\n",
              "  background-color: #dcdaeb;\n",
              "  color: #000000;\n",
              "}\n",
              "#T_5a5bc_row1_col5, #T_5a5bc_row4_col3, #T_5a5bc_row7_col8 {\n",
              "  background-color: #f4edf6;\n",
              "  color: #000000;\n",
              "}\n",
              "#T_5a5bc_row1_col6, #T_5a5bc_row1_col15, #T_5a5bc_row3_col12, #T_5a5bc_row5_col6, #T_5a5bc_row5_col15, #T_5a5bc_row6_col6 {\n",
              "  background-color: #fef6fa;\n",
              "  color: #000000;\n",
              "}\n",
              "#T_5a5bc_row1_col8, #T_5a5bc_row4_col2, #T_5a5bc_row5_col8 {\n",
              "  background-color: #f8f1f8;\n",
              "  color: #000000;\n",
              "}\n",
              "#T_5a5bc_row1_col9, #T_5a5bc_row3_col8, #T_5a5bc_row5_col9, #T_5a5bc_row6_col16 {\n",
              "  background-color: #fbf4f9;\n",
              "  color: #000000;\n",
              "}\n",
              "#T_5a5bc_row1_col10 {\n",
              "  background-color: #dedcec;\n",
              "  color: #000000;\n",
              "}\n",
              "#T_5a5bc_row1_col11 {\n",
              "  background-color: #d5d5e8;\n",
              "  color: #000000;\n",
              "}\n",
              "#T_5a5bc_row1_col12 {\n",
              "  background-color: #bcc7e1;\n",
              "  color: #000000;\n",
              "}\n",
              "#T_5a5bc_row1_col13, #T_5a5bc_row5_col11 {\n",
              "  background-color: #d9d8ea;\n",
              "  color: #000000;\n",
              "}\n",
              "#T_5a5bc_row1_col14, #T_5a5bc_row3_col1, #T_5a5bc_row5_col3, #T_5a5bc_row5_col14 {\n",
              "  background-color: #f1ebf5;\n",
              "  color: #000000;\n",
              "}\n",
              "#T_5a5bc_row1_col16, #T_5a5bc_row2_col16, #T_5a5bc_row5_col16, #T_5a5bc_row6_col15 {\n",
              "  background-color: #fdf5fa;\n",
              "  color: #000000;\n",
              "}\n",
              "#T_5a5bc_row1_col17, #T_5a5bc_row4_col18, #T_5a5bc_row5_col17 {\n",
              "  background-color: #ced0e6;\n",
              "  color: #000000;\n",
              "}\n",
              "#T_5a5bc_row1_col18, #T_5a5bc_row5_col18, #T_5a5bc_row6_col17 {\n",
              "  background-color: #cccfe5;\n",
              "  color: #000000;\n",
              "}\n",
              "#T_5a5bc_row1_col19, #T_5a5bc_row2_col1, #T_5a5bc_row2_col2, #T_5a5bc_row2_col3, #T_5a5bc_row2_col4, #T_5a5bc_row2_col5, #T_5a5bc_row2_col7, #T_5a5bc_row2_col8, #T_5a5bc_row2_col9, #T_5a5bc_row2_col10, #T_5a5bc_row2_col11, #T_5a5bc_row2_col12, #T_5a5bc_row2_col13, #T_5a5bc_row2_col14, #T_5a5bc_row2_col17, #T_5a5bc_row2_col18, #T_5a5bc_row2_col19, #T_5a5bc_row3_col0, #T_5a5bc_row3_col6, #T_5a5bc_row3_col15, #T_5a5bc_row3_col16, #T_5a5bc_row3_col19, #T_5a5bc_row4_col15, #T_5a5bc_row4_col19, #T_5a5bc_row5_col19, #T_5a5bc_row6_col19 {\n",
              "  background-color: #fff7fb;\n",
              "  color: #000000;\n",
              "}\n",
              "#T_5a5bc_row2_col0, #T_5a5bc_row7_col18 {\n",
              "  background-color: #c4cbe3;\n",
              "  color: #000000;\n",
              "}\n",
              "#T_5a5bc_row2_col6, #T_5a5bc_row2_col15, #T_5a5bc_row4_col6, #T_5a5bc_row4_col16, #T_5a5bc_row7_col19 {\n",
              "  background-color: #fef6fb;\n",
              "  color: #000000;\n",
              "}\n",
              "#T_5a5bc_row3_col2, #T_5a5bc_row4_col8, #T_5a5bc_row7_col9 {\n",
              "  background-color: #faf2f8;\n",
              "  color: #000000;\n",
              "}\n",
              "#T_5a5bc_row3_col3 {\n",
              "  background-color: #faf3f9;\n",
              "  color: #000000;\n",
              "}\n",
              "#T_5a5bc_row3_col4 {\n",
              "  background-color: #f0eaf4;\n",
              "  color: #000000;\n",
              "}\n",
              "#T_5a5bc_row3_col7, #T_5a5bc_row6_col3 {\n",
              "  background-color: #eee8f3;\n",
              "  color: #000000;\n",
              "}\n",
              "#T_5a5bc_row3_col9, #T_5a5bc_row4_col9 {\n",
              "  background-color: #fcf4fa;\n",
              "  color: #000000;\n",
              "}\n",
              "#T_5a5bc_row3_col10 {\n",
              "  background-color: #e7e3f0;\n",
              "  color: #000000;\n",
              "}\n",
              "#T_5a5bc_row3_col11 {\n",
              "  background-color: #e8e4f0;\n",
              "  color: #000000;\n",
              "}\n",
              "#T_5a5bc_row3_col13, #T_5a5bc_row4_col1 {\n",
              "  background-color: #eee9f3;\n",
              "  color: #000000;\n",
              "}\n",
              "#T_5a5bc_row3_col14, #T_5a5bc_row5_col5, #T_5a5bc_row7_col2, #T_5a5bc_row7_col6 {\n",
              "  background-color: #f4eef6;\n",
              "  color: #000000;\n",
              "}\n",
              "#T_5a5bc_row3_col17, #T_5a5bc_row6_col7, #T_5a5bc_row6_col13 {\n",
              "  background-color: #d2d3e7;\n",
              "  color: #000000;\n",
              "}\n",
              "#T_5a5bc_row3_col18 {\n",
              "  background-color: #d2d2e7;\n",
              "  color: #000000;\n",
              "}\n",
              "#T_5a5bc_row4_col0 {\n",
              "  background-color: #d0d1e6;\n",
              "  color: #000000;\n",
              "}\n",
              "#T_5a5bc_row4_col4 {\n",
              "  background-color: #e5e1ef;\n",
              "  color: #000000;\n",
              "}\n",
              "#T_5a5bc_row4_col5 {\n",
              "  background-color: #f5eef6;\n",
              "  color: #000000;\n",
              "}\n",
              "#T_5a5bc_row4_col7 {\n",
              "  background-color: #e3e0ee;\n",
              "  color: #000000;\n",
              "}\n",
              "#T_5a5bc_row4_col10 {\n",
              "  background-color: #e1dfed;\n",
              "  color: #000000;\n",
              "}\n",
              "#T_5a5bc_row4_col12, #T_5a5bc_row4_col13 {\n",
              "  background-color: #e2dfee;\n",
              "  color: #000000;\n",
              "}\n",
              "#T_5a5bc_row4_col14 {\n",
              "  background-color: #f2ecf5;\n",
              "  color: #000000;\n",
              "}\n",
              "#T_5a5bc_row4_col17, #T_5a5bc_row7_col10 {\n",
              "  background-color: #d1d2e6;\n",
              "  color: #000000;\n",
              "}\n",
              "#T_5a5bc_row5_col4 {\n",
              "  background-color: #dddbec;\n",
              "  color: #000000;\n",
              "}\n",
              "#T_5a5bc_row5_col7, #T_5a5bc_row7_col5 {\n",
              "  background-color: #e0dded;\n",
              "  color: #000000;\n",
              "}\n",
              "#T_5a5bc_row5_col10 {\n",
              "  background-color: #dfddec;\n",
              "  color: #000000;\n",
              "}\n",
              "#T_5a5bc_row5_col12 {\n",
              "  background-color: #d7d6e9;\n",
              "  color: #000000;\n",
              "}\n",
              "#T_5a5bc_row5_col13, #T_5a5bc_row6_col10 {\n",
              "  background-color: #dad9ea;\n",
              "  color: #000000;\n",
              "}\n",
              "#T_5a5bc_row6_col0 {\n",
              "  background-color: #056faf;\n",
              "  color: #f1f1f1;\n",
              "}\n",
              "#T_5a5bc_row6_col1 {\n",
              "  background-color: #ece7f2;\n",
              "  color: #000000;\n",
              "}\n",
              "#T_5a5bc_row6_col2 {\n",
              "  background-color: #f6eff7;\n",
              "  color: #000000;\n",
              "}\n",
              "#T_5a5bc_row6_col4 {\n",
              "  background-color: #d3d4e7;\n",
              "  color: #000000;\n",
              "}\n",
              "#T_5a5bc_row6_col5 {\n",
              "  background-color: #f3edf5;\n",
              "  color: #000000;\n",
              "}\n",
              "#T_5a5bc_row6_col9, #T_5a5bc_row7_col15 {\n",
              "  background-color: #fbf3f9;\n",
              "  color: #000000;\n",
              "}\n",
              "#T_5a5bc_row6_col11 {\n",
              "  background-color: #cacee5;\n",
              "  color: #000000;\n",
              "}\n",
              "#T_5a5bc_row6_col12 {\n",
              "  background-color: #79abd0;\n",
              "  color: #f1f1f1;\n",
              "}\n",
              "#T_5a5bc_row6_col18 {\n",
              "  background-color: #c9cee4;\n",
              "  color: #000000;\n",
              "}\n",
              "#T_5a5bc_row7_col1 {\n",
              "  background-color: #e6e2ef;\n",
              "  color: #000000;\n",
              "}\n",
              "#T_5a5bc_row7_col3 {\n",
              "  background-color: #eae6f1;\n",
              "  color: #000000;\n",
              "}\n",
              "#T_5a5bc_row7_col4 {\n",
              "  background-color: #8eb3d5;\n",
              "  color: #000000;\n",
              "}\n",
              "#T_5a5bc_row7_col7 {\n",
              "  background-color: #b3c3de;\n",
              "  color: #000000;\n",
              "}\n",
              "#T_5a5bc_row7_col11 {\n",
              "  background-color: #94b6d7;\n",
              "  color: #000000;\n",
              "}\n",
              "#T_5a5bc_row7_col13 {\n",
              "  background-color: #b4c4df;\n",
              "  color: #000000;\n",
              "}\n",
              "#T_5a5bc_row7_col14 {\n",
              "  background-color: #e0deed;\n",
              "  color: #000000;\n",
              "}\n",
              "#T_5a5bc_row7_col17 {\n",
              "  background-color: #c6cce3;\n",
              "  color: #000000;\n",
              "}\n",
              "</style>\n",
              "<table id=\"T_5a5bc_\" class=\"dataframe\">\n",
              "  <thead>\n",
              "    <tr>\n",
              "      <th class=\"blank level0\" >&nbsp;</th>\n",
              "      <th class=\"col_heading level0 col0\" >ID</th>\n",
              "      <th class=\"col_heading level0 col1\" >Comp</th>\n",
              "      <th class=\"col_heading level0 col2\" >Circ</th>\n",
              "      <th class=\"col_heading level0 col3\" >D.Circ</th>\n",
              "      <th class=\"col_heading level0 col4\" >Rad.Ra</th>\n",
              "      <th class=\"col_heading level0 col5\" >Pr.Axis.Ra</th>\n",
              "      <th class=\"col_heading level0 col6\" >Max.L.Ra</th>\n",
              "      <th class=\"col_heading level0 col7\" >Scat.Ra</th>\n",
              "      <th class=\"col_heading level0 col8\" >Elong</th>\n",
              "      <th class=\"col_heading level0 col9\" >Pr.Axis.Rect</th>\n",
              "      <th class=\"col_heading level0 col10\" >Max.L.Rect</th>\n",
              "      <th class=\"col_heading level0 col11\" >Sc.Var.Maxis</th>\n",
              "      <th class=\"col_heading level0 col12\" >Sc.Var.maxis</th>\n",
              "      <th class=\"col_heading level0 col13\" >Ra.Gyr</th>\n",
              "      <th class=\"col_heading level0 col14\" >Skew.Maxis</th>\n",
              "      <th class=\"col_heading level0 col15\" >Skew.maxis</th>\n",
              "      <th class=\"col_heading level0 col16\" >Kurt.maxis</th>\n",
              "      <th class=\"col_heading level0 col17\" >Kurt.Maxis</th>\n",
              "      <th class=\"col_heading level0 col18\" >Holl.Ra</th>\n",
              "      <th class=\"col_heading level0 col19\" >Class</th>\n",
              "    </tr>\n",
              "  </thead>\n",
              "  <tbody>\n",
              "    <tr>\n",
              "      <th id=\"T_5a5bc_level0_row0\" class=\"row_heading level0 row0\" >count</th>\n",
              "      <td id=\"T_5a5bc_row0_col0\" class=\"data row0 col0\" >719.000000</td>\n",
              "      <td id=\"T_5a5bc_row0_col1\" class=\"data row0 col1\" >719.000000</td>\n",
              "      <td id=\"T_5a5bc_row0_col2\" class=\"data row0 col2\" >719.000000</td>\n",
              "      <td id=\"T_5a5bc_row0_col3\" class=\"data row0 col3\" >719.000000</td>\n",
              "      <td id=\"T_5a5bc_row0_col4\" class=\"data row0 col4\" >719.000000</td>\n",
              "      <td id=\"T_5a5bc_row0_col5\" class=\"data row0 col5\" >719.000000</td>\n",
              "      <td id=\"T_5a5bc_row0_col6\" class=\"data row0 col6\" >719.000000</td>\n",
              "      <td id=\"T_5a5bc_row0_col7\" class=\"data row0 col7\" >719.000000</td>\n",
              "      <td id=\"T_5a5bc_row0_col8\" class=\"data row0 col8\" >719.000000</td>\n",
              "      <td id=\"T_5a5bc_row0_col9\" class=\"data row0 col9\" >719.000000</td>\n",
              "      <td id=\"T_5a5bc_row0_col10\" class=\"data row0 col10\" >719.000000</td>\n",
              "      <td id=\"T_5a5bc_row0_col11\" class=\"data row0 col11\" >719.000000</td>\n",
              "      <td id=\"T_5a5bc_row0_col12\" class=\"data row0 col12\" >719.000000</td>\n",
              "      <td id=\"T_5a5bc_row0_col13\" class=\"data row0 col13\" >719.000000</td>\n",
              "      <td id=\"T_5a5bc_row0_col14\" class=\"data row0 col14\" >719.000000</td>\n",
              "      <td id=\"T_5a5bc_row0_col15\" class=\"data row0 col15\" >719.000000</td>\n",
              "      <td id=\"T_5a5bc_row0_col16\" class=\"data row0 col16\" >719.000000</td>\n",
              "      <td id=\"T_5a5bc_row0_col17\" class=\"data row0 col17\" >719.000000</td>\n",
              "      <td id=\"T_5a5bc_row0_col18\" class=\"data row0 col18\" >719.000000</td>\n",
              "      <td id=\"T_5a5bc_row0_col19\" class=\"data row0 col19\" >719.000000</td>\n",
              "    </tr>\n",
              "    <tr>\n",
              "      <th id=\"T_5a5bc_level0_row1\" class=\"row_heading level0 row1\" >mean</th>\n",
              "      <td id=\"T_5a5bc_row1_col0\" class=\"data row1 col0\" >360.000000</td>\n",
              "      <td id=\"T_5a5bc_row1_col1\" class=\"data row1 col1\" >93.435327</td>\n",
              "      <td id=\"T_5a5bc_row1_col2\" class=\"data row1 col2\" >44.851182</td>\n",
              "      <td id=\"T_5a5bc_row1_col3\" class=\"data row1 col3\" >81.723227</td>\n",
              "      <td id=\"T_5a5bc_row1_col4\" class=\"data row1 col4\" >168.579972</td>\n",
              "      <td id=\"T_5a5bc_row1_col5\" class=\"data row1 col5\" >61.847010</td>\n",
              "      <td id=\"T_5a5bc_row1_col6\" class=\"data row1 col6\" >8.625869</td>\n",
              "      <td id=\"T_5a5bc_row1_col7\" class=\"data row1 col7\" >168.137691</td>\n",
              "      <td id=\"T_5a5bc_row1_col8\" class=\"data row1 col8\" >41.075104</td>\n",
              "      <td id=\"T_5a5bc_row1_col9\" class=\"data row1 col9\" >20.531293</td>\n",
              "      <td id=\"T_5a5bc_row1_col10\" class=\"data row1 col10\" >148.030598</td>\n",
              "      <td id=\"T_5a5bc_row1_col11\" class=\"data row1 col11\" >188.168289</td>\n",
              "      <td id=\"T_5a5bc_row1_col12\" class=\"data row1 col12\" >436.215577</td>\n",
              "      <td id=\"T_5a5bc_row1_col13\" class=\"data row1 col13\" >174.726008</td>\n",
              "      <td id=\"T_5a5bc_row1_col14\" class=\"data row1 col14\" >72.682893</td>\n",
              "      <td id=\"T_5a5bc_row1_col15\" class=\"data row1 col15\" >6.343533</td>\n",
              "      <td id=\"T_5a5bc_row1_col16\" class=\"data row1 col16\" >12.394993</td>\n",
              "      <td id=\"T_5a5bc_row1_col17\" class=\"data row1 col17\" >188.798331</td>\n",
              "      <td id=\"T_5a5bc_row1_col18\" class=\"data row1 col18\" >195.407510</td>\n",
              "      <td id=\"T_5a5bc_row1_col19\" class=\"data row1 col19\" >1.470097</td>\n",
              "    </tr>\n",
              "    <tr>\n",
              "      <th id=\"T_5a5bc_level0_row2\" class=\"row_heading level0 row2\" >std</th>\n",
              "      <td id=\"T_5a5bc_row2_col0\" class=\"data row2 col0\" >207.701709</td>\n",
              "      <td id=\"T_5a5bc_row2_col1\" class=\"data row2 col1\" >8.111406</td>\n",
              "      <td id=\"T_5a5bc_row2_col2\" class=\"data row2 col2\" >6.150286</td>\n",
              "      <td id=\"T_5a5bc_row2_col3\" class=\"data row2 col3\" >15.528208</td>\n",
              "      <td id=\"T_5a5bc_row2_col4\" class=\"data row2 col4\" >33.809172</td>\n",
              "      <td id=\"T_5a5bc_row2_col5\" class=\"data row2 col5\" >8.259136</td>\n",
              "      <td id=\"T_5a5bc_row2_col6\" class=\"data row2 col6\" >4.916908</td>\n",
              "      <td id=\"T_5a5bc_row2_col7\" class=\"data row2 col7\" >32.937591</td>\n",
              "      <td id=\"T_5a5bc_row2_col8\" class=\"data row2 col8\" >7.764459</td>\n",
              "      <td id=\"T_5a5bc_row2_col9\" class=\"data row2 col9\" >2.560969</td>\n",
              "      <td id=\"T_5a5bc_row2_col10\" class=\"data row2 col10\" >14.560092</td>\n",
              "      <td id=\"T_5a5bc_row2_col11\" class=\"data row2 col11\" >31.235395</td>\n",
              "      <td id=\"T_5a5bc_row2_col12\" class=\"data row2 col12\" >174.964977</td>\n",
              "      <td id=\"T_5a5bc_row2_col13\" class=\"data row2 col13\" >32.149568</td>\n",
              "      <td id=\"T_5a5bc_row2_col14\" class=\"data row2 col14\" >7.542055</td>\n",
              "      <td id=\"T_5a5bc_row2_col15\" class=\"data row2 col15\" >4.856169</td>\n",
              "      <td id=\"T_5a5bc_row2_col16\" class=\"data row2 col16\" >8.742511</td>\n",
              "      <td id=\"T_5a5bc_row2_col17\" class=\"data row2 col17\" >6.048522</td>\n",
              "      <td id=\"T_5a5bc_row2_col18\" class=\"data row2 col18\" >7.235166</td>\n",
              "      <td id=\"T_5a5bc_row2_col19\" class=\"data row2 col19\" >1.126477</td>\n",
              "    </tr>\n",
              "    <tr>\n",
              "      <th id=\"T_5a5bc_level0_row3\" class=\"row_heading level0 row3\" >min</th>\n",
              "      <td id=\"T_5a5bc_row3_col0\" class=\"data row3 col0\" >1.000000</td>\n",
              "      <td id=\"T_5a5bc_row3_col1\" class=\"data row3 col1\" >73.000000</td>\n",
              "      <td id=\"T_5a5bc_row3_col2\" class=\"data row3 col2\" >33.000000</td>\n",
              "      <td id=\"T_5a5bc_row3_col3\" class=\"data row3 col3\" >40.000000</td>\n",
              "      <td id=\"T_5a5bc_row3_col4\" class=\"data row3 col4\" >105.000000</td>\n",
              "      <td id=\"T_5a5bc_row3_col5\" class=\"data row3 col5\" >47.000000</td>\n",
              "      <td id=\"T_5a5bc_row3_col6\" class=\"data row3 col6\" >2.000000</td>\n",
              "      <td id=\"T_5a5bc_row3_col7\" class=\"data row3 col7\" >112.000000</td>\n",
              "      <td id=\"T_5a5bc_row3_col8\" class=\"data row3 col8\" >26.000000</td>\n",
              "      <td id=\"T_5a5bc_row3_col9\" class=\"data row3 col9\" >17.000000</td>\n",
              "      <td id=\"T_5a5bc_row3_col10\" class=\"data row3 col10\" >118.000000</td>\n",
              "      <td id=\"T_5a5bc_row3_col11\" class=\"data row3 col11\" >130.000000</td>\n",
              "      <td id=\"T_5a5bc_row3_col12\" class=\"data row3 col12\" >184.000000</td>\n",
              "      <td id=\"T_5a5bc_row3_col13\" class=\"data row3 col13\" >109.000000</td>\n",
              "      <td id=\"T_5a5bc_row3_col14\" class=\"data row3 col14\" >59.000000</td>\n",
              "      <td id=\"T_5a5bc_row3_col15\" class=\"data row3 col15\" >0.000000</td>\n",
              "      <td id=\"T_5a5bc_row3_col16\" class=\"data row3 col16\" >0.000000</td>\n",
              "      <td id=\"T_5a5bc_row3_col17\" class=\"data row3 col17\" >176.000000</td>\n",
              "      <td id=\"T_5a5bc_row3_col18\" class=\"data row3 col18\" >181.000000</td>\n",
              "      <td id=\"T_5a5bc_row3_col19\" class=\"data row3 col19\" >0.000000</td>\n",
              "    </tr>\n",
              "    <tr>\n",
              "      <th id=\"T_5a5bc_level0_row4\" class=\"row_heading level0 row4\" >25%</th>\n",
              "      <td id=\"T_5a5bc_row4_col0\" class=\"data row4 col0\" >180.500000</td>\n",
              "      <td id=\"T_5a5bc_row4_col1\" class=\"data row4 col1\" >87.000000</td>\n",
              "      <td id=\"T_5a5bc_row4_col2\" class=\"data row4 col2\" >40.000000</td>\n",
              "      <td id=\"T_5a5bc_row4_col3\" class=\"data row4 col3\" >70.000000</td>\n",
              "      <td id=\"T_5a5bc_row4_col4\" class=\"data row4 col4\" >141.000000</td>\n",
              "      <td id=\"T_5a5bc_row4_col5\" class=\"data row4 col5\" >57.000000</td>\n",
              "      <td id=\"T_5a5bc_row4_col6\" class=\"data row4 col6\" >6.000000</td>\n",
              "      <td id=\"T_5a5bc_row4_col7\" class=\"data row4 col7\" >146.000000</td>\n",
              "      <td id=\"T_5a5bc_row4_col8\" class=\"data row4 col8\" >33.000000</td>\n",
              "      <td id=\"T_5a5bc_row4_col9\" class=\"data row4 col9\" >19.000000</td>\n",
              "      <td id=\"T_5a5bc_row4_col10\" class=\"data row4 col10\" >137.000000</td>\n",
              "      <td id=\"T_5a5bc_row4_col11\" class=\"data row4 col11\" >167.000000</td>\n",
              "      <td id=\"T_5a5bc_row4_col12\" class=\"data row4 col12\" >317.000000</td>\n",
              "      <td id=\"T_5a5bc_row4_col13\" class=\"data row4 col13\" >149.000000</td>\n",
              "      <td id=\"T_5a5bc_row4_col14\" class=\"data row4 col14\" >68.000000</td>\n",
              "      <td id=\"T_5a5bc_row4_col15\" class=\"data row4 col15\" >2.000000</td>\n",
              "      <td id=\"T_5a5bc_row4_col16\" class=\"data row4 col16\" >5.500000</td>\n",
              "      <td id=\"T_5a5bc_row4_col17\" class=\"data row4 col17\" >184.000000</td>\n",
              "      <td id=\"T_5a5bc_row4_col18\" class=\"data row4 col18\" >190.000000</td>\n",
              "      <td id=\"T_5a5bc_row4_col19\" class=\"data row4 col19\" >0.000000</td>\n",
              "    </tr>\n",
              "    <tr>\n",
              "      <th id=\"T_5a5bc_level0_row5\" class=\"row_heading level0 row5\" >50%</th>\n",
              "      <td id=\"T_5a5bc_row5_col0\" class=\"data row5 col0\" >360.000000</td>\n",
              "      <td id=\"T_5a5bc_row5_col1\" class=\"data row5 col1\" >93.000000</td>\n",
              "      <td id=\"T_5a5bc_row5_col2\" class=\"data row5 col2\" >44.000000</td>\n",
              "      <td id=\"T_5a5bc_row5_col3\" class=\"data row5 col3\" >79.000000</td>\n",
              "      <td id=\"T_5a5bc_row5_col4\" class=\"data row5 col4\" >166.000000</td>\n",
              "      <td id=\"T_5a5bc_row5_col5\" class=\"data row5 col5\" >61.000000</td>\n",
              "      <td id=\"T_5a5bc_row5_col6\" class=\"data row5 col6\" >8.000000</td>\n",
              "      <td id=\"T_5a5bc_row5_col7\" class=\"data row5 col7\" >157.000000</td>\n",
              "      <td id=\"T_5a5bc_row5_col8\" class=\"data row5 col8\" >43.000000</td>\n",
              "      <td id=\"T_5a5bc_row5_col9\" class=\"data row5 col9\" >20.000000</td>\n",
              "      <td id=\"T_5a5bc_row5_col10\" class=\"data row5 col10\" >146.000000</td>\n",
              "      <td id=\"T_5a5bc_row5_col11\" class=\"data row5 col11\" >178.000000</td>\n",
              "      <td id=\"T_5a5bc_row5_col12\" class=\"data row5 col12\" >362.000000</td>\n",
              "      <td id=\"T_5a5bc_row5_col13\" class=\"data row5 col13\" >174.000000</td>\n",
              "      <td id=\"T_5a5bc_row5_col14\" class=\"data row5 col14\" >72.000000</td>\n",
              "      <td id=\"T_5a5bc_row5_col15\" class=\"data row5 col15\" >6.000000</td>\n",
              "      <td id=\"T_5a5bc_row5_col16\" class=\"data row5 col16\" >11.000000</td>\n",
              "      <td id=\"T_5a5bc_row5_col17\" class=\"data row5 col17\" >188.000000</td>\n",
              "      <td id=\"T_5a5bc_row5_col18\" class=\"data row5 col18\" >196.000000</td>\n",
              "      <td id=\"T_5a5bc_row5_col19\" class=\"data row5 col19\" >1.000000</td>\n",
              "    </tr>\n",
              "    <tr>\n",
              "      <th id=\"T_5a5bc_level0_row6\" class=\"row_heading level0 row6\" >75%</th>\n",
              "      <td id=\"T_5a5bc_row6_col0\" class=\"data row6 col0\" >539.500000</td>\n",
              "      <td id=\"T_5a5bc_row6_col1\" class=\"data row6 col1\" >99.000000</td>\n",
              "      <td id=\"T_5a5bc_row6_col2\" class=\"data row6 col2\" >49.000000</td>\n",
              "      <td id=\"T_5a5bc_row6_col3\" class=\"data row6 col3\" >96.000000</td>\n",
              "      <td id=\"T_5a5bc_row6_col4\" class=\"data row6 col4\" >194.500000</td>\n",
              "      <td id=\"T_5a5bc_row6_col5\" class=\"data row6 col5\" >65.000000</td>\n",
              "      <td id=\"T_5a5bc_row6_col6\" class=\"data row6 col6\" >10.000000</td>\n",
              "      <td id=\"T_5a5bc_row6_col7\" class=\"data row6 col7\" >197.500000</td>\n",
              "      <td id=\"T_5a5bc_row6_col8\" class=\"data row6 col8\" >46.000000</td>\n",
              "      <td id=\"T_5a5bc_row6_col9\" class=\"data row6 col9\" >23.000000</td>\n",
              "      <td id=\"T_5a5bc_row6_col10\" class=\"data row6 col10\" >159.000000</td>\n",
              "      <td id=\"T_5a5bc_row6_col11\" class=\"data row6 col11\" >216.000000</td>\n",
              "      <td id=\"T_5a5bc_row6_col12\" class=\"data row6 col12\" >584.500000</td>\n",
              "      <td id=\"T_5a5bc_row6_col13\" class=\"data row6 col13\" >198.000000</td>\n",
              "      <td id=\"T_5a5bc_row6_col14\" class=\"data row6 col14\" >76.000000</td>\n",
              "      <td id=\"T_5a5bc_row6_col15\" class=\"data row6 col15\" >9.000000</td>\n",
              "      <td id=\"T_5a5bc_row6_col16\" class=\"data row6 col16\" >18.000000</td>\n",
              "      <td id=\"T_5a5bc_row6_col17\" class=\"data row6 col17\" >193.000000</td>\n",
              "      <td id=\"T_5a5bc_row6_col18\" class=\"data row6 col18\" >201.000000</td>\n",
              "      <td id=\"T_5a5bc_row6_col19\" class=\"data row6 col19\" >2.000000</td>\n",
              "    </tr>\n",
              "    <tr>\n",
              "      <th id=\"T_5a5bc_level0_row7\" class=\"row_heading level0 row7\" >max</th>\n",
              "      <td id=\"T_5a5bc_row7_col0\" class=\"data row7 col0\" >719.000000</td>\n",
              "      <td id=\"T_5a5bc_row7_col1\" class=\"data row7 col1\" >119.000000</td>\n",
              "      <td id=\"T_5a5bc_row7_col2\" class=\"data row7 col2\" >59.000000</td>\n",
              "      <td id=\"T_5a5bc_row7_col3\" class=\"data row7 col3\" >110.000000</td>\n",
              "      <td id=\"T_5a5bc_row7_col4\" class=\"data row7 col4\" >333.000000</td>\n",
              "      <td id=\"T_5a5bc_row7_col5\" class=\"data row7 col5\" >138.000000</td>\n",
              "      <td id=\"T_5a5bc_row7_col6\" class=\"data row7 col6\" >55.000000</td>\n",
              "      <td id=\"T_5a5bc_row7_col7\" class=\"data row7 col7\" >265.000000</td>\n",
              "      <td id=\"T_5a5bc_row7_col8\" class=\"data row7 col8\" >61.000000</td>\n",
              "      <td id=\"T_5a5bc_row7_col9\" class=\"data row7 col9\" >29.000000</td>\n",
              "      <td id=\"T_5a5bc_row7_col10\" class=\"data row7 col10\" >188.000000</td>\n",
              "      <td id=\"T_5a5bc_row7_col11\" class=\"data row7 col11\" >320.000000</td>\n",
              "      <td id=\"T_5a5bc_row7_col12\" class=\"data row7 col12\" >1018.000000</td>\n",
              "      <td id=\"T_5a5bc_row7_col13\" class=\"data row7 col13\" >262.000000</td>\n",
              "      <td id=\"T_5a5bc_row7_col14\" class=\"data row7 col14\" >135.000000</td>\n",
              "      <td id=\"T_5a5bc_row7_col15\" class=\"data row7 col15\" >22.000000</td>\n",
              "      <td id=\"T_5a5bc_row7_col16\" class=\"data row7 col16\" >41.000000</td>\n",
              "      <td id=\"T_5a5bc_row7_col17\" class=\"data row7 col17\" >204.000000</td>\n",
              "      <td id=\"T_5a5bc_row7_col18\" class=\"data row7 col18\" >211.000000</td>\n",
              "      <td id=\"T_5a5bc_row7_col19\" class=\"data row7 col19\" >3.000000</td>\n",
              "    </tr>\n",
              "  </tbody>\n",
              "</table>\n"
            ]
          },
          "metadata": {},
          "execution_count": 10
        }
      ]
    },
    {
      "cell_type": "code",
      "source": [
        "data.dtypes"
      ],
      "metadata": {
        "colab": {
          "base_uri": "https://localhost:8080/"
        },
        "id": "WJyDCWlAC3K7",
        "outputId": "912f9f58-ca15-4c0c-d529-c60cdd145bc0"
      },
      "execution_count": null,
      "outputs": [
        {
          "output_type": "execute_result",
          "data": {
            "text/plain": [
              "ID              int64\n",
              "Comp            int64\n",
              "Circ            int64\n",
              "D.Circ          int64\n",
              "Rad.Ra          int64\n",
              "Pr.Axis.Ra      int64\n",
              "Max.L.Ra        int64\n",
              "Scat.Ra         int64\n",
              "Elong           int64\n",
              "Pr.Axis.Rect    int64\n",
              "Max.L.Rect      int64\n",
              "Sc.Var.Maxis    int64\n",
              "Sc.Var.maxis    int64\n",
              "Ra.Gyr          int64\n",
              "Skew.Maxis      int64\n",
              "Skew.maxis      int64\n",
              "Kurt.maxis      int64\n",
              "Kurt.Maxis      int64\n",
              "Holl.Ra         int64\n",
              "Class           int64\n",
              "dtype: object"
            ]
          },
          "metadata": {},
          "execution_count": 11
        }
      ]
    },
    {
      "cell_type": "markdown",
      "source": [
        "there is no catogerical feature"
      ],
      "metadata": {
        "id": "EFWlVunIfLmm"
      }
    },
    {
      "cell_type": "markdown",
      "source": [
        "#####Check duplicated rows"
      ],
      "metadata": {
        "id": "gizLeDvqfaDU"
      }
    },
    {
      "cell_type": "code",
      "source": [
        "data.duplicated().sum()"
      ],
      "metadata": {
        "colab": {
          "base_uri": "https://localhost:8080/"
        },
        "id": "KOIbzWk3fTMf",
        "outputId": "4c85f158-38e6-45f2-bf44-31c4b935a818"
      },
      "execution_count": null,
      "outputs": [
        {
          "output_type": "execute_result",
          "data": {
            "text/plain": [
              "0"
            ]
          },
          "metadata": {},
          "execution_count": 12
        }
      ]
    },
    {
      "cell_type": "markdown",
      "source": [
        "there is no duplicated values present"
      ],
      "metadata": {
        "id": "dYGQfMfmftg9"
      }
    },
    {
      "cell_type": "markdown",
      "source": [
        "####Correlation Matrix"
      ],
      "metadata": {
        "id": "GTPfOlsSFRiN"
      }
    },
    {
      "cell_type": "code",
      "source": [
        "corr = data.corr()\n",
        "plt.figure(figsize=(30,40))\n",
        "sns.heatmap(corr, annot=True, cmap='coolwarm')"
      ],
      "metadata": {
        "colab": {
          "base_uri": "https://localhost:8080/",
          "height": 1000
        },
        "id": "1B_P6JM3FWnW",
        "outputId": "f83efbdb-51fe-4a6d-f81a-860627c0b6ca"
      },
      "execution_count": null,
      "outputs": [
        {
          "output_type": "execute_result",
          "data": {
            "text/plain": [
              "<matplotlib.axes._subplots.AxesSubplot at 0x7f5b5ef9da10>"
            ]
          },
          "metadata": {},
          "execution_count": 54
        },
        {
          "output_type": "display_data",
          "data": {
            "text/plain": [
              "<Figure size 2160x2880 with 2 Axes>"
            ],
            "image/png": "[encoded data removed]"
          },
          "metadata": {
            "needs_background": "light"
          }
        }
      ]
    },
    {
      "cell_type": "markdown",
      "source": [
        "####Declaring the target and feature column\n",
        "X and y split"
      ],
      "metadata": {
        "id": "oCKnZT09kll8"
      }
    },
    {
      "cell_type": "code",
      "source": [
        "y = data['Class']"
      ],
      "metadata": {
        "id": "afwNKhQWfyUO"
      },
      "execution_count": null,
      "outputs": []
    },
    {
      "cell_type": "code",
      "source": [
        "X = data.drop('Class',axis=1)"
      ],
      "metadata": {
        "id": "riW-_Ywskuzm"
      },
      "execution_count": null,
      "outputs": []
    },
    {
      "cell_type": "code",
      "source": [
        "X.head()"
      ],
      "metadata": {
        "colab": {
          "base_uri": "https://localhost:8080/",
          "height": 270
        },
        "id": "b9JHODA0lGRG",
        "outputId": "ab970faa-1df2-4d96-95c8-17571efc9b10"
      },
      "execution_count": null,
      "outputs": [
        {
          "output_type": "execute_result",
          "data": {
            "text/plain": [
              "   ID  Comp  Circ  D.Circ  Rad.Ra  Pr.Axis.Ra  Max.L.Ra  Scat.Ra  Elong  \\\n",
              "0   1    88    39      70     166          66         7      148     44   \n",
              "1   2    85    35      64     129          57         6      116     57   \n",
              "2   3    91    41      84     141          57         9      149     45   \n",
              "3   4   102    54      98     177          56        10      219     31   \n",
              "4   5    87    39      74     152          58         6      151     44   \n",
              "\n",
              "   Pr.Axis.Rect  Max.L.Rect  Sc.Var.Maxis  Sc.Var.maxis  Ra.Gyr  Skew.Maxis  \\\n",
              "0            19         134           167           332     143          69   \n",
              "1            17         125           138           200     123          65   \n",
              "2            19         143           170           330     158          72   \n",
              "3            25         171           219           706     223          72   \n",
              "4            19         136           174           337     140          70   \n",
              "\n",
              "   Skew.maxis  Kurt.maxis  Kurt.Maxis  Holl.Ra  \n",
              "0           5          13         193      201  \n",
              "1           1          23         196      203  \n",
              "2           9          14         189      199  \n",
              "3           5          17         186      196  \n",
              "4           1          33         187      196  "
            ],
            "text/html": [
              "\n",
              "  <div id=\"df-4366d7cf-ce42-4693-9e83-c86667577204\">\n",
              "    <div class=\"colab-df-container\">\n",
              "      <div>\n",
              "<style scoped>\n",
              "    .dataframe tbody tr th:only-of-type {\n",
              "        vertical-align: middle;\n",
              "    }\n",
              "\n",
              "    .dataframe tbody tr th {\n",
              "        vertical-align: top;\n",
              "    }\n",
              "\n",
              "    .dataframe thead th {\n",
              "        text-align: right;\n",
              "    }\n",
              "</style>\n",
              "<table border=\"1\" class=\"dataframe\">\n",
              "  <thead>\n",
              "    <tr style=\"text-align: right;\">\n",
              "      <th></th>\n",
              "      <th>ID</th>\n",
              "      <th>Comp</th>\n",
              "      <th>Circ</th>\n",
              "      <th>D.Circ</th>\n",
              "      <th>Rad.Ra</th>\n",
              "      <th>Pr.Axis.Ra</th>\n",
              "      <th>Max.L.Ra</th>\n",
              "      <th>Scat.Ra</th>\n",
              "      <th>Elong</th>\n",
              "      <th>Pr.Axis.Rect</th>\n",
              "      <th>Max.L.Rect</th>\n",
              "      <th>Sc.Var.Maxis</th>\n",
              "      <th>Sc.Var.maxis</th>\n",
              "      <th>Ra.Gyr</th>\n",
              "      <th>Skew.Maxis</th>\n",
              "      <th>Skew.maxis</th>\n",
              "      <th>Kurt.maxis</th>\n",
              "      <th>Kurt.Maxis</th>\n",
              "      <th>Holl.Ra</th>\n",
              "    </tr>\n",
              "  </thead>\n",
              "  <tbody>\n",
              "    <tr>\n",
              "      <th>0</th>\n",
              "      <td>1</td>\n",
              "      <td>88</td>\n",
              "      <td>39</td>\n",
              "      <td>70</td>\n",
              "      <td>166</td>\n",
              "      <td>66</td>\n",
              "      <td>7</td>\n",
              "      <td>148</td>\n",
              "      <td>44</td>\n",
              "      <td>19</td>\n",
              "      <td>134</td>\n",
              "      <td>167</td>\n",
              "      <td>332</td>\n",
              "      <td>143</td>\n",
              "      <td>69</td>\n",
              "      <td>5</td>\n",
              "      <td>13</td>\n",
              "      <td>193</td>\n",
              "      <td>201</td>\n",
              "    </tr>\n",
              "    <tr>\n",
              "      <th>1</th>\n",
              "      <td>2</td>\n",
              "      <td>85</td>\n",
              "      <td>35</td>\n",
              "      <td>64</td>\n",
              "      <td>129</td>\n",
              "      <td>57</td>\n",
              "      <td>6</td>\n",
              "      <td>116</td>\n",
              "      <td>57</td>\n",
              "      <td>17</td>\n",
              "      <td>125</td>\n",
              "      <td>138</td>\n",
              "      <td>200</td>\n",
              "      <td>123</td>\n",
              "      <td>65</td>\n",
              "      <td>1</td>\n",
              "      <td>23</td>\n",
              "      <td>196</td>\n",
              "      <td>203</td>\n",
              "    </tr>\n",
              "    <tr>\n",
              "      <th>2</th>\n",
              "      <td>3</td>\n",
              "      <td>91</td>\n",
              "      <td>41</td>\n",
              "      <td>84</td>\n",
              "      <td>141</td>\n",
              "      <td>57</td>\n",
              "      <td>9</td>\n",
              "      <td>149</td>\n",
              "      <td>45</td>\n",
              "      <td>19</td>\n",
              "      <td>143</td>\n",
              "      <td>170</td>\n",
              "      <td>330</td>\n",
              "      <td>158</td>\n",
              "      <td>72</td>\n",
              "      <td>9</td>\n",
              "      <td>14</td>\n",
              "      <td>189</td>\n",
              "      <td>199</td>\n",
              "    </tr>\n",
              "    <tr>\n",
              "      <th>3</th>\n",
              "      <td>4</td>\n",
              "      <td>102</td>\n",
              "      <td>54</td>\n",
              "      <td>98</td>\n",
              "      <td>177</td>\n",
              "      <td>56</td>\n",
              "      <td>10</td>\n",
              "      <td>219</td>\n",
              "      <td>31</td>\n",
              "      <td>25</td>\n",
              "      <td>171</td>\n",
              "      <td>219</td>\n",
              "      <td>706</td>\n",
              "      <td>223</td>\n",
              "      <td>72</td>\n",
              "      <td>5</td>\n",
              "      <td>17</td>\n",
              "      <td>186</td>\n",
              "      <td>196</td>\n",
              "    </tr>\n",
              "    <tr>\n",
              "      <th>4</th>\n",
              "      <td>5</td>\n",
              "      <td>87</td>\n",
              "      <td>39</td>\n",
              "      <td>74</td>\n",
              "      <td>152</td>\n",
              "      <td>58</td>\n",
              "      <td>6</td>\n",
              "      <td>151</td>\n",
              "      <td>44</td>\n",
              "      <td>19</td>\n",
              "      <td>136</td>\n",
              "      <td>174</td>\n",
              "      <td>337</td>\n",
              "      <td>140</td>\n",
              "      <td>70</td>\n",
              "      <td>1</td>\n",
              "      <td>33</td>\n",
              "      <td>187</td>\n",
              "      <td>196</td>\n",
              "    </tr>\n",
              "  </tbody>\n",
              "</table>\n",
              "</div>\n",
              "      <button class=\"colab-df-convert\" onclick=\"convertToInteractive('df-4366d7cf-ce42-4693-9e83-c86667577204')\"\n",
              "              title=\"Convert this dataframe to an interactive table.\"\n",
              "              style=\"display:none;\">\n",
              "        \n",
              "  <svg xmlns=\"http://www.w3.org/2000/svg\" height=\"24px\"viewBox=\"0 0 24 24\"\n",
              "       width=\"24px\">\n",
              "    <path d=\"M0 0h24v24H0V0z\" fill=\"none\"/>\n",
              "    <path d=\"M18.56 5.44l.94 2.06.94-2.06 2.06-.94-2.06-.94-.94-2.06-.94 2.06-2.06.94zm-11 1L8.5 8.5l.94-2.06 2.06-.94-2.06-.94L8.5 2.5l-.94 2.06-2.06.94zm10 10l.94 2.06.94-2.06 2.06-.94-2.06-.94-.94-2.06-.94 2.06-2.06.94z\"/><path d=\"M17.41 7.96l-1.37-1.37c-.4-.4-.92-.59-1.43-.59-.52 0-1.04.2-1.43.59L10.3 9.45l-7.72 7.72c-.78.78-.78 2.05 0 2.83L4 21.41c.39.39.9.59 1.41.59.51 0 1.02-.2 1.41-.59l7.78-7.78 2.81-2.81c.8-.78.8-2.07 0-2.86zM5.41 20L4 18.59l7.72-7.72 1.47 1.35L5.41 20z\"/>\n",
              "  </svg>\n",
              "      </button>\n",
              "      \n",
              "  <style>\n",
              "    .colab-df-container {\n",
              "      display:flex;\n",
              "      flex-wrap:wrap;\n",
              "      gap: 12px;\n",
              "    }\n",
              "\n",
              "    .colab-df-convert {\n",
              "      background-color: #E8F0FE;\n",
              "      border: none;\n",
              "      border-radius: 50%;\n",
              "      cursor: pointer;\n",
              "      display: none;\n",
              "      fill: #1967D2;\n",
              "      height: 32px;\n",
              "      padding: 0 0 0 0;\n",
              "      width: 32px;\n",
              "    }\n",
              "\n",
              "    .colab-df-convert:hover {\n",
              "      background-color: #E2EBFA;\n",
              "      box-shadow: 0px 1px 2px rgba(60, 64, 67, 0.3), 0px 1px 3px 1px rgba(60, 64, 67, 0.15);\n",
              "      fill: #174EA6;\n",
              "    }\n",
              "\n",
              "    [theme=dark] .colab-df-convert {\n",
              "      background-color: #3B4455;\n",
              "      fill: #D2E3FC;\n",
              "    }\n",
              "\n",
              "    [theme=dark] .colab-df-convert:hover {\n",
              "      background-color: #434B5C;\n",
              "      box-shadow: 0px 1px 3px 1px rgba(0, 0, 0, 0.15);\n",
              "      filter: drop-shadow(0px 1px 2px rgba(0, 0, 0, 0.3));\n",
              "      fill: #FFFFFF;\n",
              "    }\n",
              "  </style>\n",
              "\n",
              "      <script>\n",
              "        const buttonEl =\n",
              "          document.querySelector('#df-4366d7cf-ce42-4693-9e83-c86667577204 button.colab-df-convert');\n",
              "        buttonEl.style.display =\n",
              "          google.colab.kernel.accessAllowed ? 'block' : 'none';\n",
              "\n",
              "        async function convertToInteractive(key) {\n",
              "          const element = document.querySelector('#df-4366d7cf-ce42-4693-9e83-c86667577204');\n",
              "          const dataTable =\n",
              "            await google.colab.kernel.invokeFunction('convertToInteractive',\n",
              "                                                     [key], {});\n",
              "          if (!dataTable) return;\n",
              "\n",
              "          const docLinkHtml = 'Like what you see? Visit the ' +\n",
              "            '<a target=\"_blank\" href=https://colab.research.google.com/notebooks/data_table.ipynb>data table notebook</a>'\n",
              "            + ' to learn more about interactive tables.';\n",
              "          element.innerHTML = '';\n",
              "          dataTable['output_type'] = 'display_data';\n",
              "          await google.colab.output.renderOutput(dataTable, element);\n",
              "          const docLink = document.createElement('div');\n",
              "          docLink.innerHTML = docLinkHtml;\n",
              "          element.appendChild(docLink);\n",
              "        }\n",
              "      </script>\n",
              "    </div>\n",
              "  </div>\n",
              "  "
            ]
          },
          "metadata": {},
          "execution_count": 15
        }
      ]
    },
    {
      "cell_type": "code",
      "source": [
        "X.shape"
      ],
      "metadata": {
        "colab": {
          "base_uri": "https://localhost:8080/"
        },
        "id": "J30UxeGpntpd",
        "outputId": "7f7d37a4-eb3a-4124-faee-7835742debd1"
      },
      "execution_count": null,
      "outputs": [
        {
          "output_type": "execute_result",
          "data": {
            "text/plain": [
              "(719, 19)"
            ]
          },
          "metadata": {},
          "execution_count": 16
        }
      ]
    },
    {
      "cell_type": "markdown",
      "source": [
        "We will drop ID as it is not relevent for our model"
      ],
      "metadata": {
        "id": "GlFWza93onZO"
      }
    },
    {
      "cell_type": "code",
      "source": [
        "X.drop('ID',axis=1,inplace=True)"
      ],
      "metadata": {
        "id": "2A0s-uwpnyQi"
      },
      "execution_count": null,
      "outputs": []
    },
    {
      "cell_type": "markdown",
      "source": [
        "####Train and Test split"
      ],
      "metadata": {
        "id": "0N-ZyCWTo7Fd"
      }
    },
    {
      "cell_type": "code",
      "source": [
        "from sklearn.model_selection import train_test_split"
      ],
      "metadata": {
        "id": "TiU6cezpn409"
      },
      "execution_count": null,
      "outputs": []
    },
    {
      "cell_type": "code",
      "source": [
        "X_train, X_test, y_train, y_test =train_test_split(X, y, test_size=0.2, random_state=0) "
      ],
      "metadata": {
        "id": "1HMV42mspUdq"
      },
      "execution_count": null,
      "outputs": []
    },
    {
      "cell_type": "code",
      "source": [
        "X_train.head()"
      ],
      "metadata": {
        "colab": {
          "base_uri": "https://localhost:8080/",
          "height": 270
        },
        "id": "kjPJ8cmipzhL",
        "outputId": "1c6bbf49-b42f-46c7-a2d9-032fc89cfc01"
      },
      "execution_count": null,
      "outputs": [
        {
          "output_type": "execute_result",
          "data": {
            "text/plain": [
              "     Comp  Circ  D.Circ  Rad.Ra  Pr.Axis.Ra  Max.L.Ra  Scat.Ra  Elong  \\\n",
              "475   100    50      98     204          63         6      218     30   \n",
              "236    86    45      70     122          56         7      148     45   \n",
              "17     87    36      53     117          58         4      118     57   \n",
              "267    95    36      73     191          73         6      156     41   \n",
              "364   106    57     107     235          67         6      262     26   \n",
              "\n",
              "     Pr.Axis.Rect  Max.L.Rect  Sc.Var.Maxis  Sc.Var.maxis  Ra.Gyr  Skew.Maxis  \\\n",
              "475            24         156           232           719     213          77   \n",
              "236            19         144           170           324     186          84   \n",
              "17             17         125           138           205     138          85   \n",
              "267            19         126           184           374     124          71   \n",
              "364            28         171           285           987     260          86   \n",
              "\n",
              "     Skew.maxis  Kurt.maxis  Kurt.Maxis  Holl.Ra  \n",
              "475           8           7         189      189  \n",
              "236           9           5         180      183  \n",
              "17            9          15         180      183  \n",
              "267           2          19         199      204  \n",
              "364           9          31         180      184  "
            ],
            "text/html": [
              "\n",
              "  <div id=\"df-6d989220-6e8d-40a9-8cca-b1e3e7a19b2b\">\n",
              "    <div class=\"colab-df-container\">\n",
              "      <div>\n",
              "<style scoped>\n",
              "    .dataframe tbody tr th:only-of-type {\n",
              "        vertical-align: middle;\n",
              "    }\n",
              "\n",
              "    .dataframe tbody tr th {\n",
              "        vertical-align: top;\n",
              "    }\n",
              "\n",
              "    .dataframe thead th {\n",
              "        text-align: right;\n",
              "    }\n",
              "</style>\n",
              "<table border=\"1\" class=\"dataframe\">\n",
              "  <thead>\n",
              "    <tr style=\"text-align: right;\">\n",
              "      <th></th>\n",
              "      <th>Comp</th>\n",
              "      <th>Circ</th>\n",
              "      <th>D.Circ</th>\n",
              "      <th>Rad.Ra</th>\n",
              "      <th>Pr.Axis.Ra</th>\n",
              "      <th>Max.L.Ra</th>\n",
              "      <th>Scat.Ra</th>\n",
              "      <th>Elong</th>\n",
              "      <th>Pr.Axis.Rect</th>\n",
              "      <th>Max.L.Rect</th>\n",
              "      <th>Sc.Var.Maxis</th>\n",
              "      <th>Sc.Var.maxis</th>\n",
              "      <th>Ra.Gyr</th>\n",
              "      <th>Skew.Maxis</th>\n",
              "      <th>Skew.maxis</th>\n",
              "      <th>Kurt.maxis</th>\n",
              "      <th>Kurt.Maxis</th>\n",
              "      <th>Holl.Ra</th>\n",
              "    </tr>\n",
              "  </thead>\n",
              "  <tbody>\n",
              "    <tr>\n",
              "      <th>475</th>\n",
              "      <td>100</td>\n",
              "      <td>50</td>\n",
              "      <td>98</td>\n",
              "      <td>204</td>\n",
              "      <td>63</td>\n",
              "      <td>6</td>\n",
              "      <td>218</td>\n",
              "      <td>30</td>\n",
              "      <td>24</td>\n",
              "      <td>156</td>\n",
              "      <td>232</td>\n",
              "      <td>719</td>\n",
              "      <td>213</td>\n",
              "      <td>77</td>\n",
              "      <td>8</td>\n",
              "      <td>7</td>\n",
              "      <td>189</td>\n",
              "      <td>189</td>\n",
              "    </tr>\n",
              "    <tr>\n",
              "      <th>236</th>\n",
              "      <td>86</td>\n",
              "      <td>45</td>\n",
              "      <td>70</td>\n",
              "      <td>122</td>\n",
              "      <td>56</td>\n",
              "      <td>7</td>\n",
              "      <td>148</td>\n",
              "      <td>45</td>\n",
              "      <td>19</td>\n",
              "      <td>144</td>\n",
              "      <td>170</td>\n",
              "      <td>324</td>\n",
              "      <td>186</td>\n",
              "      <td>84</td>\n",
              "      <td>9</td>\n",
              "      <td>5</td>\n",
              "      <td>180</td>\n",
              "      <td>183</td>\n",
              "    </tr>\n",
              "    <tr>\n",
              "      <th>17</th>\n",
              "      <td>87</td>\n",
              "      <td>36</td>\n",
              "      <td>53</td>\n",
              "      <td>117</td>\n",
              "      <td>58</td>\n",
              "      <td>4</td>\n",
              "      <td>118</td>\n",
              "      <td>57</td>\n",
              "      <td>17</td>\n",
              "      <td>125</td>\n",
              "      <td>138</td>\n",
              "      <td>205</td>\n",
              "      <td>138</td>\n",
              "      <td>85</td>\n",
              "      <td>9</td>\n",
              "      <td>15</td>\n",
              "      <td>180</td>\n",
              "      <td>183</td>\n",
              "    </tr>\n",
              "    <tr>\n",
              "      <th>267</th>\n",
              "      <td>95</td>\n",
              "      <td>36</td>\n",
              "      <td>73</td>\n",
              "      <td>191</td>\n",
              "      <td>73</td>\n",
              "      <td>6</td>\n",
              "      <td>156</td>\n",
              "      <td>41</td>\n",
              "      <td>19</td>\n",
              "      <td>126</td>\n",
              "      <td>184</td>\n",
              "      <td>374</td>\n",
              "      <td>124</td>\n",
              "      <td>71</td>\n",
              "      <td>2</td>\n",
              "      <td>19</td>\n",
              "      <td>199</td>\n",
              "      <td>204</td>\n",
              "    </tr>\n",
              "    <tr>\n",
              "      <th>364</th>\n",
              "      <td>106</td>\n",
              "      <td>57</td>\n",
              "      <td>107</td>\n",
              "      <td>235</td>\n",
              "      <td>67</td>\n",
              "      <td>6</td>\n",
              "      <td>262</td>\n",
              "      <td>26</td>\n",
              "      <td>28</td>\n",
              "      <td>171</td>\n",
              "      <td>285</td>\n",
              "      <td>987</td>\n",
              "      <td>260</td>\n",
              "      <td>86</td>\n",
              "      <td>9</td>\n",
              "      <td>31</td>\n",
              "      <td>180</td>\n",
              "      <td>184</td>\n",
              "    </tr>\n",
              "  </tbody>\n",
              "</table>\n",
              "</div>\n",
              "      <button class=\"colab-df-convert\" onclick=\"convertToInteractive('df-6d989220-6e8d-40a9-8cca-b1e3e7a19b2b')\"\n",
              "              title=\"Convert this dataframe to an interactive table.\"\n",
              "              style=\"display:none;\">\n",
              "        \n",
              "  <svg xmlns=\"http://www.w3.org/2000/svg\" height=\"24px\"viewBox=\"0 0 24 24\"\n",
              "       width=\"24px\">\n",
              "    <path d=\"M0 0h24v24H0V0z\" fill=\"none\"/>\n",
              "    <path d=\"M18.56 5.44l.94 2.06.94-2.06 2.06-.94-2.06-.94-.94-2.06-.94 2.06-2.06.94zm-11 1L8.5 8.5l.94-2.06 2.06-.94-2.06-.94L8.5 2.5l-.94 2.06-2.06.94zm10 10l.94 2.06.94-2.06 2.06-.94-2.06-.94-.94-2.06-.94 2.06-2.06.94z\"/><path d=\"M17.41 7.96l-1.37-1.37c-.4-.4-.92-.59-1.43-.59-.52 0-1.04.2-1.43.59L10.3 9.45l-7.72 7.72c-.78.78-.78 2.05 0 2.83L4 21.41c.39.39.9.59 1.41.59.51 0 1.02-.2 1.41-.59l7.78-7.78 2.81-2.81c.8-.78.8-2.07 0-2.86zM5.41 20L4 18.59l7.72-7.72 1.47 1.35L5.41 20z\"/>\n",
              "  </svg>\n",
              "      </button>\n",
              "      \n",
              "  <style>\n",
              "    .colab-df-container {\n",
              "      display:flex;\n",
              "      flex-wrap:wrap;\n",
              "      gap: 12px;\n",
              "    }\n",
              "\n",
              "    .colab-df-convert {\n",
              "      background-color: #E8F0FE;\n",
              "      border: none;\n",
              "      border-radius: 50%;\n",
              "      cursor: pointer;\n",
              "      display: none;\n",
              "      fill: #1967D2;\n",
              "      height: 32px;\n",
              "      padding: 0 0 0 0;\n",
              "      width: 32px;\n",
              "    }\n",
              "\n",
              "    .colab-df-convert:hover {\n",
              "      background-color: #E2EBFA;\n",
              "      box-shadow: 0px 1px 2px rgba(60, 64, 67, 0.3), 0px 1px 3px 1px rgba(60, 64, 67, 0.15);\n",
              "      fill: #174EA6;\n",
              "    }\n",
              "\n",
              "    [theme=dark] .colab-df-convert {\n",
              "      background-color: #3B4455;\n",
              "      fill: #D2E3FC;\n",
              "    }\n",
              "\n",
              "    [theme=dark] .colab-df-convert:hover {\n",
              "      background-color: #434B5C;\n",
              "      box-shadow: 0px 1px 3px 1px rgba(0, 0, 0, 0.15);\n",
              "      filter: drop-shadow(0px 1px 2px rgba(0, 0, 0, 0.3));\n",
              "      fill: #FFFFFF;\n",
              "    }\n",
              "  </style>\n",
              "\n",
              "      <script>\n",
              "        const buttonEl =\n",
              "          document.querySelector('#df-6d989220-6e8d-40a9-8cca-b1e3e7a19b2b button.colab-df-convert');\n",
              "        buttonEl.style.display =\n",
              "          google.colab.kernel.accessAllowed ? 'block' : 'none';\n",
              "\n",
              "        async function convertToInteractive(key) {\n",
              "          const element = document.querySelector('#df-6d989220-6e8d-40a9-8cca-b1e3e7a19b2b');\n",
              "          const dataTable =\n",
              "            await google.colab.kernel.invokeFunction('convertToInteractive',\n",
              "                                                     [key], {});\n",
              "          if (!dataTable) return;\n",
              "\n",
              "          const docLinkHtml = 'Like what you see? Visit the ' +\n",
              "            '<a target=\"_blank\" href=https://colab.research.google.com/notebooks/data_table.ipynb>data table notebook</a>'\n",
              "            + ' to learn more about interactive tables.';\n",
              "          element.innerHTML = '';\n",
              "          dataTable['output_type'] = 'display_data';\n",
              "          await google.colab.output.renderOutput(dataTable, element);\n",
              "          const docLink = document.createElement('div');\n",
              "          docLink.innerHTML = docLinkHtml;\n",
              "          element.appendChild(docLink);\n",
              "        }\n",
              "      </script>\n",
              "    </div>\n",
              "  </div>\n",
              "  "
            ]
          },
          "metadata": {},
          "execution_count": 20
        }
      ]
    },
    {
      "cell_type": "markdown",
      "source": [
        "####Scaling the feature"
      ],
      "metadata": {
        "id": "o2ggSxNOUIUM"
      }
    },
    {
      "cell_type": "code",
      "source": [
        "import seaborn as sns"
      ],
      "metadata": {
        "id": "1UreUgzqULBh"
      },
      "execution_count": null,
      "outputs": []
    },
    {
      "cell_type": "code",
      "source": [
        "sns.boxplot(data=data)"
      ],
      "metadata": {
        "colab": {
          "base_uri": "https://localhost:8080/",
          "height": 283
        },
        "id": "TkRSxrMAUZzc",
        "outputId": "a057db07-eed4-46db-a689-120fc0281a7f"
      },
      "execution_count": null,
      "outputs": [
        {
          "output_type": "execute_result",
          "data": {
            "text/plain": [
              "<matplotlib.axes._subplots.AxesSubplot at 0x7f5b636f9c50>"
            ]
          },
          "metadata": {},
          "execution_count": 22
        },
        {
          "output_type": "display_data",
          "data": {
            "text/plain": [
              "<Figure size 432x288 with 1 Axes>"
            ],
            "image/png": "[encoded data removed]"
          },
          "metadata": {
            "needs_background": "light"
          }
        }
      ]
    },
    {
      "cell_type": "markdown",
      "source": [
        "####Scaling"
      ],
      "metadata": {
        "id": "Dsk56BbyUiGt"
      }
    },
    {
      "cell_type": "code",
      "source": [
        "from sklearn.preprocessing import StandardScaler"
      ],
      "metadata": {
        "id": "vpsdTWwBUhH0"
      },
      "execution_count": null,
      "outputs": []
    },
    {
      "cell_type": "code",
      "source": [
        "SS = StandardScaler()"
      ],
      "metadata": {
        "id": "bK_U2z3OVNcH"
      },
      "execution_count": null,
      "outputs": []
    },
    {
      "cell_type": "code",
      "source": [
        "X_train=SS.fit_transform(X_train)\n"
      ],
      "metadata": {
        "id": "23WQAb61VSIX"
      },
      "execution_count": null,
      "outputs": []
    },
    {
      "cell_type": "code",
      "source": [
        "sns.boxplot(data=X_train)"
      ],
      "metadata": {
        "colab": {
          "base_uri": "https://localhost:8080/",
          "height": 283
        },
        "id": "qHoZZCSIGxai",
        "outputId": "59c1cfb8-ef8e-4e38-dccc-ad17d5d74b70"
      },
      "execution_count": null,
      "outputs": [
        {
          "output_type": "execute_result",
          "data": {
            "text/plain": [
              "<matplotlib.axes._subplots.AxesSubplot at 0x7f5b62f744d0>"
            ]
          },
          "metadata": {},
          "execution_count": 26
        },
        {
          "output_type": "display_data",
          "data": {
            "text/plain": [
              "<Figure size 432x288 with 1 Axes>"
            ],
            "image/png": "[encoded data removed]"
          },
          "metadata": {
            "needs_background": "light"
          }
        }
      ]
    },
    {
      "cell_type": "code",
      "source": [
        "X_test=SS.transform(X_test)"
      ],
      "metadata": {
        "id": "hhDjCjVGHERV"
      },
      "execution_count": null,
      "outputs": []
    },
    {
      "cell_type": "markdown",
      "source": [
        "#####Classification Models"
      ],
      "metadata": {
        "id": "UGoe6lStHpu8"
      }
    },
    {
      "cell_type": "code",
      "source": [
        "from sklearn.linear_model import LogisticRegression\n",
        "from sklearn.linear_model import SGDClassifier"
      ],
      "metadata": {
        "id": "wXbHGRNINdtk"
      },
      "execution_count": null,
      "outputs": []
    },
    {
      "cell_type": "code",
      "source": [
        "from sklearn.svm import SVC\n",
        "from sklearn.neighbors import KNeighborsClassifier\n",
        "from sklearn.tree import DecisionTreeClassifier\n",
        "from sklearn.ensemble import RandomForestClassifier\n",
        "from sklearn.ensemble import GradientBoostingClassifier\n",
        "from sklearn.naive_bayes import GaussianNB"
      ],
      "metadata": {
        "id": "S4fIQmjyLC3S"
      },
      "execution_count": null,
      "outputs": []
    },
    {
      "cell_type": "code",
      "source": [
        "lr=LogisticRegression()\n",
        "sgd=SGDClassifier()\n",
        "svc=SVC()\n",
        "knn=KNeighborsClassifier()\n",
        "dtc=DecisionTreeClassifier()\n",
        "rfc=RandomForestClassifier()\n",
        "gbc=GradientBoostingClassifier()\n",
        "gnb=GaussianNB()"
      ],
      "metadata": {
        "id": "DmtHiL35HmIW"
      },
      "execution_count": null,
      "outputs": []
    },
    {
      "cell_type": "code",
      "source": [
        "lr.fit(X_train,y_train)\n",
        "sgd.fit(X_train,y_train)\n",
        "svc.fit(X_train,y_train)\n",
        "knn.fit(X_train,y_train)\n",
        "dtc.fit(X_train,y_train)\n",
        "rfc.fit(X_train,y_train)\n",
        "gbc.fit(X_train,y_train)\n",
        "gnb.fit(X_train,y_train)"
      ],
      "metadata": {
        "colab": {
          "base_uri": "https://localhost:8080/"
        },
        "id": "vZ5IZ_u8LeuL",
        "outputId": "5aed7e81-f5cb-4686-db29-0e303f4e1d7e"
      },
      "execution_count": null,
      "outputs": [
        {
          "output_type": "execute_result",
          "data": {
            "text/plain": [
              "GaussianNB()"
            ]
          },
          "metadata": {},
          "execution_count": 31
        }
      ]
    },
    {
      "cell_type": "code",
      "source": [
        "s1=lr.score(X_test,y_test)\n",
        "s2=sgd.score(X_test,y_test)\n",
        "s3=svc.score(X_test,y_test)\n",
        "s4=knn.score(X_test,y_test)\n",
        "s5=dtc.score(X_test,y_test)\n",
        "s6=rfc.score(X_test,y_test)\n",
        "s7=gbc.score(X_test,y_test)\n",
        "s8=gnb.score(X_test,y_test)"
      ],
      "metadata": {
        "id": "a61iu2VtONL7"
      },
      "execution_count": null,
      "outputs": []
    },
    {
      "cell_type": "code",
      "source": [
        "scores=[s1,s2,s3,s4,s5,s6,s7,s8]"
      ],
      "metadata": {
        "id": "Kzm6HjaIPbgA"
      },
      "execution_count": null,
      "outputs": []
    },
    {
      "cell_type": "code",
      "source": [
        "scores"
      ],
      "metadata": {
        "colab": {
          "base_uri": "https://localhost:8080/"
        },
        "id": "hsGZLp0EP2gw",
        "outputId": "62fc8b4d-6d3a-4fea-9e7b-7486980a9911"
      },
      "execution_count": null,
      "outputs": [
        {
          "output_type": "execute_result",
          "data": {
            "text/plain": [
              "[0.7986111111111112,\n",
              " 0.7847222222222222,\n",
              " 0.7361111111111112,\n",
              " 0.7708333333333334,\n",
              " 0.7777777777777778,\n",
              " 0.8055555555555556,\n",
              " 0.5]"
            ]
          },
          "metadata": {},
          "execution_count": 34
        }
      ]
    },
    {
      "cell_type": "code",
      "source": [
        "yp1=lr.predict(X_test)\n",
        "yp2=sgd.predict(X_test)\n",
        "yp3=svc.predict(X_test)\n",
        "yp4=knn.predict(X_test)\n",
        "yp5=dtc.predict(X_test)\n",
        "yp6=rfc.predict(X_test)\n",
        "yp7=gbc.predict(X_test)\n",
        "yp8=gnb.predict(X_test)"
      ],
      "metadata": {
        "id": "4J4n4f-hQNmw"
      },
      "execution_count": null,
      "outputs": []
    },
    {
      "cell_type": "code",
      "source": [
        "from sklearn.metrics import  f1_score"
      ],
      "metadata": {
        "id": "YGAmY_I4T1wA"
      },
      "execution_count": null,
      "outputs": []
    },
    {
      "cell_type": "code",
      "source": [
        "fs1=f1_score(y_test,yp1,average=None)\n",
        "fs2=f1_score(y_test,yp2,average=None)\n",
        "fs3=f1_score(y_test,yp3,average=None)\n",
        "fs4=f1_score(y_test,yp4,average=None)\n",
        "fs5=f1_score(y_test,yp5,average=None)\n",
        "fs6=f1_score(y_test,yp6,average=None)\n",
        "fs7=f1_score(y_test,yp7,average=None)\n",
        "fs8=f1_score(y_test,yp8,average=None)"
      ],
      "metadata": {
        "id": "1jL4EFonSPh1"
      },
      "execution_count": null,
      "outputs": []
    },
    {
      "cell_type": "code",
      "source": [
        "f_scores=[fs1,fs2,fs3,fs4,fs5,fs6,fs7,fs8]"
      ],
      "metadata": {
        "id": "kJxGADP5T4u6"
      },
      "execution_count": null,
      "outputs": []
    },
    {
      "cell_type": "code",
      "source": [
        "f_scores"
      ],
      "metadata": {
        "colab": {
          "base_uri": "https://localhost:8080/"
        },
        "id": "GyKer0xPUMQY",
        "outputId": "01cb7ac2-ac73-4205-d74d-7ff9225a1362"
      },
      "execution_count": null,
      "outputs": [
        {
          "output_type": "execute_result",
          "data": {
            "text/plain": [
              "[array([0.91358025, 0.6031746 , 0.64516129, 0.95121951]),\n",
              " array([0.93670886, 0.57142857, 0.63333333, 0.90697674]),\n",
              " array([0.86746988, 0.53731343, 0.6       , 0.87179487]),\n",
              " array([0.94736842, 0.61764706, 0.59375   , 0.875     ]),\n",
              " array([0.93670886, 0.59375   , 0.61290323, 0.89156627]),\n",
              " array([0.97368421, 0.625     , 0.63636364, 0.92682927])]"
            ]
          },
          "metadata": {},
          "execution_count": 39
        }
      ]
    },
    {
      "cell_type": "code",
      "source": [
        "from sklearn.metrics import plot_confusion_matrix\n",
        "\n",
        "plot_confusion_matrix(lr,X_test,y_test)"
      ],
      "metadata": {
        "id": "x34pVIh0-Bvf"
      },
      "execution_count": null,
      "outputs": []
    },
    {
      "cell_type": "markdown",
      "source": [
        "####Final Model:Gradient Boosting Classifier\n"
      ],
      "metadata": {
        "id": "_TfAahP7U8lY"
      }
    },
    {
      "cell_type": "code",
      "source": [
        "from sklearn.model_selection import ParameterGrid"
      ],
      "metadata": {
        "id": "VgKuNwDLWqzv"
      },
      "execution_count": null,
      "outputs": []
    },
    {
      "cell_type": "code",
      "source": [
        "param_grid={'loss':['log_loss','deviance','exponential'],'learning_rate':[0.001,0.01,0.1,1],\n",
        "            'n_estimators':[100,150,200],'criterion':['friedman_mse','squared_error','mse']}"
      ],
      "metadata": {
        "id": "yaHAIeLOVouR"
      },
      "execution_count": null,
      "outputs": []
    },
    {
      "cell_type": "code",
      "source": [
        "from sklearn.model_selection import GridSearchCV"
      ],
      "metadata": {
        "id": "CsqY2mEJXEfn"
      },
      "execution_count": null,
      "outputs": []
    },
    {
      "cell_type": "code",
      "source": [
        "GSCV=GridSearchCV(GradientBoostingClassifier(),param_grid,cv=3)"
      ],
      "metadata": {
        "id": "129VF4GWXUfg"
      },
      "execution_count": null,
      "outputs": []
    },
    {
      "cell_type": "code",
      "source": [
        "GSCV.fit(X_train,y_train)"
      ],
      "metadata": {
        "colab": {
          "base_uri": "https://localhost:8080/"
        },
        "id": "g87lJMuvXs_W",
        "outputId": "c7d2ca54-247d-4542-a074-e1c479bcb8ba"
      },
      "execution_count": null,
      "outputs": [
        {
          "output_type": "execute_result",
          "data": {
            "text/plain": [
              "GridSearchCV(cv=3, estimator=GradientBoostingClassifier(),\n",
              "             param_grid={'criterion': ['friedman_mse', 'squared_error', 'mse'],\n",
              "                         'learning_rate': [0.001, 0.01, 0.1, 1],\n",
              "                         'loss': ['log_loss', 'deviance', 'exponential'],\n",
              "                         'n_estimators': [100, 150, 200]})"
            ]
          },
          "metadata": {},
          "execution_count": 44
        }
      ]
    },
    {
      "cell_type": "code",
      "source": [
        "# gbc=GradientBoostingClassifier(solver='newton_cg')"
      ],
      "metadata": {
        "id": "HtkVMuGuaF7W"
      },
      "execution_count": null,
      "outputs": []
    },
    {
      "cell_type": "code",
      "source": [
        "GSCV.best_params_"
      ],
      "metadata": {
        "colab": {
          "base_uri": "https://localhost:8080/"
        },
        "id": "7IeZp68Sb1Xw",
        "outputId": "2fd7b295-030c-4ae1-a5ee-f867e2daf306"
      },
      "execution_count": null,
      "outputs": [
        {
          "output_type": "execute_result",
          "data": {
            "text/plain": [
              "{'criterion': 'friedman_mse',\n",
              " 'learning_rate': 0.1,\n",
              " 'loss': 'deviance',\n",
              " 'n_estimators': 100}"
            ]
          },
          "metadata": {},
          "execution_count": 46
        }
      ]
    },
    {
      "cell_type": "code",
      "source": [
        "GSCV.best_score_"
      ],
      "metadata": {
        "colab": {
          "base_uri": "https://localhost:8080/"
        },
        "id": "-Yia9gAFb4iN",
        "outputId": "0bcc8708-97cc-41d6-8702-2ec94479051d"
      },
      "execution_count": null,
      "outputs": [
        {
          "output_type": "execute_result",
          "data": {
            "text/plain": [
              "0.7530631908086095"
            ]
          },
          "metadata": {},
          "execution_count": 47
        }
      ]
    },
    {
      "cell_type": "markdown",
      "source": [
        "####Confusion Matrix"
      ],
      "metadata": {
        "id": "30fM130BgJS6"
      }
    },
    {
      "cell_type": "code",
      "source": [
        "from sklearn.metrics import confusion_matrix,ConfusionMatrixDisplay\n",
        "import matplotlib.pyplot as plt"
      ],
      "metadata": {
        "id": "-M8dWhACgNAm"
      },
      "execution_count": null,
      "outputs": []
    },
    {
      "cell_type": "code",
      "source": [
        "cm=confusion_matrix(y_test,GSCV.predict(X_test),labels=GSCV.classes_)"
      ],
      "metadata": {
        "id": "E-qHxlKlgsKp"
      },
      "execution_count": null,
      "outputs": []
    },
    {
      "cell_type": "code",
      "source": [
        "disp = ConfusionMatrixDisplay(confusion_matrix=cm, display_labels=GSCV.classes_)"
      ],
      "metadata": {
        "id": "AhpyOViWiBIQ"
      },
      "execution_count": null,
      "outputs": []
    },
    {
      "cell_type": "code",
      "source": [
        "disp.plot()\n",
        "plt.show()"
      ],
      "metadata": {
        "colab": {
          "base_uri": "https://localhost:8080/",
          "height": 279
        },
        "id": "RNYC5Ffkiv0M",
        "outputId": "a2c09c47-0449-48ab-c23a-349ffc47c8bd"
      },
      "execution_count": null,
      "outputs": [
        {
          "output_type": "display_data",
          "data": {
            "text/plain": [
              "<Figure size 432x288 with 2 Axes>"
            ],
            "image/png": "[encoded data removed]"
          },
          "metadata": {
            "needs_background": "light"
          }
        }
      ]
    }
  ]
}